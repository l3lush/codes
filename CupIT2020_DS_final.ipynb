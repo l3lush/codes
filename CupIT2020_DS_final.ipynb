{
  "nbformat": 4,
  "nbformat_minor": 0,
  "metadata": {
    "colab": {
      "name": "CupIT2020-DS-final.ipynb",
      "provenance": [],
      "collapsed_sections": [
        "nHQDCRapRGzT",
        "Uefgdbm7NFVj"
      ],
      "machine_shape": "hm"
    },
    "kernelspec": {
      "name": "python3",
      "display_name": "Python 3"
    }
  },
  "cells": [
    {
      "cell_type": "code",
      "metadata": {
        "id": "NS_K56gpC9MU",
        "colab_type": "code",
        "colab": {}
      },
      "source": [
        "# Для работы в колабе\n",
        "try:\n",
        "  from google.colab import files\n",
        "  google_colab = True\n",
        "except Exception:\n",
        "  google_colab = False\n",
        "  print('Working not in colab')\n",
        "import os\n",
        "import pandas as pd\n",
        "import numpy as np"
      ],
      "execution_count": 0,
      "outputs": []
    },
    {
      "cell_type": "code",
      "metadata": {
        "id": "GJ_Vs8-fEyhk",
        "colab_type": "code",
        "colab": {}
      },
      "source": [
        "%matplotlib inline\n",
        "import matplotlib.pyplot as plt\n",
        "import seaborn as sns"
      ],
      "execution_count": 0,
      "outputs": []
    },
    {
      "cell_type": "code",
      "metadata": {
        "id": "kitBn3y3j3Ha",
        "colab_type": "code",
        "colab": {}
      },
      "source": [
        "# Путь к директории с данным\n",
        "if google_colab:\n",
        "  path = \"drive/My Drive/hack/changelenge/final/\"\n",
        "else:\n",
        "  path = './'"
      ],
      "execution_count": 0,
      "outputs": []
    },
    {
      "cell_type": "code",
      "metadata": {
        "id": "qd2_7MpOE0PU",
        "colab_type": "code",
        "outputId": "53e87844-f7f4-4499-cbab-551498856d44",
        "colab": {
          "base_uri": "https://localhost:8080/",
          "height": 54
        }
      },
      "source": [
        "if google_colab:\n",
        "  from google.colab import drive\n",
        "  drive.mount('/content/drive')"
      ],
      "execution_count": 0,
      "outputs": [
        {
          "output_type": "stream",
          "text": [
            "Drive already mounted at /content/drive; to attempt to forcibly remount, call drive.mount(\"/content/drive\", force_remount=True).\n"
          ],
          "name": "stdout"
        }
      ]
    },
    {
      "cell_type": "code",
      "metadata": {
        "id": "BQZSkzrmE9u6",
        "colab_type": "code",
        "colab": {}
      },
      "source": [
        "# loading train data to DataFrame\n",
        "train_df = pd.read_csv(path + \"CL_megafon_Cup IT_2020_final_data.csv\",\n",
        "                       comment='#', sep=';')"
      ],
      "execution_count": 0,
      "outputs": []
    },
    {
      "cell_type": "markdown",
      "metadata": {
        "id": "EZU26WfYFQeU",
        "colab_type": "text"
      },
      "source": [
        "## Посмотрим на данные и проведем первичный анализ\n"
      ]
    },
    {
      "cell_type": "code",
      "metadata": {
        "id": "f2N0Lra8FI76",
        "colab_type": "code",
        "outputId": "c330823c-92ed-4404-e495-a677c54a8c0b",
        "colab": {
          "base_uri": "https://localhost:8080/",
          "height": 206
        }
      },
      "source": [
        "train_df.head()"
      ],
      "execution_count": 0,
      "outputs": [
        {
          "output_type": "execute_result",
          "data": {
            "text/html": [
              "<div>\n",
              "<style scoped>\n",
              "    .dataframe tbody tr th:only-of-type {\n",
              "        vertical-align: middle;\n",
              "    }\n",
              "\n",
              "    .dataframe tbody tr th {\n",
              "        vertical-align: top;\n",
              "    }\n",
              "\n",
              "    .dataframe thead th {\n",
              "        text-align: right;\n",
              "    }\n",
              "</style>\n",
              "<table border=\"1\" class=\"dataframe\">\n",
              "  <thead>\n",
              "    <tr style=\"text-align: right;\">\n",
              "      <th></th>\n",
              "      <th>time_start</th>\n",
              "      <th>time_end</th>\n",
              "      <th>place_latitude</th>\n",
              "      <th>place_longitude</th>\n",
              "    </tr>\n",
              "  </thead>\n",
              "  <tbody>\n",
              "    <tr>\n",
              "      <th>0</th>\n",
              "      <td>2019-08-24 14:23:56</td>\n",
              "      <td>2019-08-24 18:54:47</td>\n",
              "      <td>28.102908</td>\n",
              "      <td>113.617867</td>\n",
              "    </tr>\n",
              "    <tr>\n",
              "      <th>1</th>\n",
              "      <td>2018-06-19 08:56:22</td>\n",
              "      <td>2018-06-19 12:15:26</td>\n",
              "      <td>28.102908</td>\n",
              "      <td>113.617867</td>\n",
              "    </tr>\n",
              "    <tr>\n",
              "      <th>2</th>\n",
              "      <td>2018-08-29 14:00:32</td>\n",
              "      <td>2018-08-29 14:37:51</td>\n",
              "      <td>28.102908</td>\n",
              "      <td>113.617867</td>\n",
              "    </tr>\n",
              "    <tr>\n",
              "      <th>3</th>\n",
              "      <td>2019-12-10 16:01:26</td>\n",
              "      <td>2019-12-10 16:35:22</td>\n",
              "      <td>28.102908</td>\n",
              "      <td>113.617867</td>\n",
              "    </tr>\n",
              "    <tr>\n",
              "      <th>4</th>\n",
              "      <td>2019-12-10 13:39:42</td>\n",
              "      <td>2019-12-10 17:58:22</td>\n",
              "      <td>28.999495</td>\n",
              "      <td>115.167583</td>\n",
              "    </tr>\n",
              "  </tbody>\n",
              "</table>\n",
              "</div>"
            ],
            "text/plain": [
              "            time_start             time_end  place_latitude  place_longitude\n",
              "0  2019-08-24 14:23:56  2019-08-24 18:54:47       28.102908       113.617867\n",
              "1  2018-06-19 08:56:22  2018-06-19 12:15:26       28.102908       113.617867\n",
              "2  2018-08-29 14:00:32  2018-08-29 14:37:51       28.102908       113.617867\n",
              "3  2019-12-10 16:01:26  2019-12-10 16:35:22       28.102908       113.617867\n",
              "4  2019-12-10 13:39:42  2019-12-10 17:58:22       28.999495       115.167583"
            ]
          },
          "metadata": {
            "tags": []
          },
          "execution_count": 150
        }
      ]
    },
    {
      "cell_type": "markdown",
      "metadata": {
        "id": "cDOPSiYNF2vw",
        "colab_type": "text"
      },
      "source": [
        "## Обработка данных"
      ]
    },
    {
      "cell_type": "code",
      "metadata": {
        "id": "-4TidhYAGbNZ",
        "colab_type": "code",
        "outputId": "74e33e0b-42c2-45f6-8b12-a2bdfd992e8a",
        "colab": {
          "base_uri": "https://localhost:8080/",
          "height": 104
        }
      },
      "source": [
        "# Преобразуем данные во временной формат\n",
        "train_df.time_start = pd.to_datetime(train_df.time_start)\n",
        "train_df.time_end = pd.to_datetime(train_df.time_end)\n",
        "train_df.dtypes"
      ],
      "execution_count": 0,
      "outputs": [
        {
          "output_type": "execute_result",
          "data": {
            "text/plain": [
              "time_start         datetime64[ns]\n",
              "time_end           datetime64[ns]\n",
              "place_latitude            float64\n",
              "place_longitude           float64\n",
              "dtype: object"
            ]
          },
          "metadata": {
            "tags": []
          },
          "execution_count": 151
        }
      ]
    },
    {
      "cell_type": "code",
      "metadata": {
        "id": "8JmzLLxoF6WZ",
        "colab_type": "code",
        "colab": {}
      },
      "source": [
        "# Сгенерируем целевую переменную\n",
        "train_df['service_time'] = train_df.time_end - train_df.time_start"
      ],
      "execution_count": 0,
      "outputs": []
    },
    {
      "cell_type": "code",
      "metadata": {
        "id": "u-tCzVWvhU5G",
        "colab_type": "code",
        "colab": {}
      },
      "source": [
        "train_df['service_time_minutes'] = train_df['service_time']\\\n",
        "                                    .apply(lambda time:\n",
        "                                           time.total_seconds() / 60)"
      ],
      "execution_count": 0,
      "outputs": []
    },
    {
      "cell_type": "code",
      "metadata": {
        "id": "R_IJ77hpI5L0",
        "colab_type": "code",
        "outputId": "a47ec4b4-8993-467f-b64a-e88bbfb49e7a",
        "colab": {
          "base_uri": "https://localhost:8080/",
          "height": 293
        }
      },
      "source": [
        "# Проверим правильно ли сгенерировалась фича\n",
        "train_df.head()"
      ],
      "execution_count": 0,
      "outputs": [
        {
          "output_type": "execute_result",
          "data": {
            "text/html": [
              "<div>\n",
              "<style scoped>\n",
              "    .dataframe tbody tr th:only-of-type {\n",
              "        vertical-align: middle;\n",
              "    }\n",
              "\n",
              "    .dataframe tbody tr th {\n",
              "        vertical-align: top;\n",
              "    }\n",
              "\n",
              "    .dataframe thead th {\n",
              "        text-align: right;\n",
              "    }\n",
              "</style>\n",
              "<table border=\"1\" class=\"dataframe\">\n",
              "  <thead>\n",
              "    <tr style=\"text-align: right;\">\n",
              "      <th></th>\n",
              "      <th>time_start</th>\n",
              "      <th>time_end</th>\n",
              "      <th>place_latitude</th>\n",
              "      <th>place_longitude</th>\n",
              "      <th>service_time</th>\n",
              "      <th>service_time_minutes</th>\n",
              "    </tr>\n",
              "  </thead>\n",
              "  <tbody>\n",
              "    <tr>\n",
              "      <th>0</th>\n",
              "      <td>2019-08-24 14:23:56</td>\n",
              "      <td>2019-08-24 18:54:47</td>\n",
              "      <td>28.102908</td>\n",
              "      <td>113.617867</td>\n",
              "      <td>04:30:51</td>\n",
              "      <td>270.850000</td>\n",
              "    </tr>\n",
              "    <tr>\n",
              "      <th>1</th>\n",
              "      <td>2018-06-19 08:56:22</td>\n",
              "      <td>2018-06-19 12:15:26</td>\n",
              "      <td>28.102908</td>\n",
              "      <td>113.617867</td>\n",
              "      <td>03:19:04</td>\n",
              "      <td>199.066667</td>\n",
              "    </tr>\n",
              "    <tr>\n",
              "      <th>2</th>\n",
              "      <td>2018-08-29 14:00:32</td>\n",
              "      <td>2018-08-29 14:37:51</td>\n",
              "      <td>28.102908</td>\n",
              "      <td>113.617867</td>\n",
              "      <td>00:37:19</td>\n",
              "      <td>37.316667</td>\n",
              "    </tr>\n",
              "    <tr>\n",
              "      <th>3</th>\n",
              "      <td>2019-12-10 16:01:26</td>\n",
              "      <td>2019-12-10 16:35:22</td>\n",
              "      <td>28.102908</td>\n",
              "      <td>113.617867</td>\n",
              "      <td>00:33:56</td>\n",
              "      <td>33.933333</td>\n",
              "    </tr>\n",
              "    <tr>\n",
              "      <th>4</th>\n",
              "      <td>2019-12-10 13:39:42</td>\n",
              "      <td>2019-12-10 17:58:22</td>\n",
              "      <td>28.999495</td>\n",
              "      <td>115.167583</td>\n",
              "      <td>04:18:40</td>\n",
              "      <td>258.666667</td>\n",
              "    </tr>\n",
              "  </tbody>\n",
              "</table>\n",
              "</div>"
            ],
            "text/plain": [
              "           time_start            time_end  ...  service_time  service_time_minutes\n",
              "0 2019-08-24 14:23:56 2019-08-24 18:54:47  ...      04:30:51            270.850000\n",
              "1 2018-06-19 08:56:22 2018-06-19 12:15:26  ...      03:19:04            199.066667\n",
              "2 2018-08-29 14:00:32 2018-08-29 14:37:51  ...      00:37:19             37.316667\n",
              "3 2019-12-10 16:01:26 2019-12-10 16:35:22  ...      00:33:56             33.933333\n",
              "4 2019-12-10 13:39:42 2019-12-10 17:58:22  ...      04:18:40            258.666667\n",
              "\n",
              "[5 rows x 6 columns]"
            ]
          },
          "metadata": {
            "tags": []
          },
          "execution_count": 154
        }
      ]
    },
    {
      "cell_type": "markdown",
      "metadata": {
        "id": "LVaF1tDkls5d",
        "colab_type": "text"
      },
      "source": [
        "Колонка коорд понадобится для более удобной кластеризации и поиска уникальных пар координат через unique()"
      ]
    },
    {
      "cell_type": "code",
      "metadata": {
        "id": "yHlo5Blmkfvx",
        "colab_type": "code",
        "colab": {}
      },
      "source": [
        "# Создадим колонку для координат формата (широта, долгота)\n",
        "train_df['coord'] = train_df.index\n",
        "train_df['coord'] = train_df['coord']\\\n",
        "                      .apply(lambda x:\n",
        "                             (train_df.place_longitude[x],\n",
        "                              train_df.place_latitude[x],))\n",
        "point_coords = train_df.coord.unique()"
      ],
      "execution_count": 0,
      "outputs": []
    },
    {
      "cell_type": "code",
      "metadata": {
        "id": "PrcU4M9P11jM",
        "colab_type": "code",
        "colab": {}
      },
      "source": [
        "# Отсортируем данные для наглядности и удобства\n",
        "train_df = train_df.sort_values(['coord', 'time_start'])"
      ],
      "execution_count": 0,
      "outputs": []
    },
    {
      "cell_type": "markdown",
      "metadata": {
        "id": "TVwq-jyr4iTB",
        "colab_type": "text"
      },
      "source": [
        "#### Проверка на NaN"
      ]
    },
    {
      "cell_type": "code",
      "metadata": {
        "id": "AXH4hESw4m1y",
        "colab_type": "code",
        "outputId": "413bc27c-4bfb-4502-a9cf-efade8aadd0c",
        "colab": {
          "base_uri": "https://localhost:8080/",
          "height": 156
        }
      },
      "source": [
        "train_df.isna().sum()"
      ],
      "execution_count": 0,
      "outputs": [
        {
          "output_type": "execute_result",
          "data": {
            "text/plain": [
              "time_start              0\n",
              "time_end                0\n",
              "place_latitude          0\n",
              "place_longitude         0\n",
              "service_time            0\n",
              "service_time_minutes    0\n",
              "coord                   0\n",
              "dtype: int64"
            ]
          },
          "metadata": {
            "tags": []
          },
          "execution_count": 157
        }
      ]
    },
    {
      "cell_type": "markdown",
      "metadata": {
        "id": "TESq_uJH58YC",
        "colab_type": "text"
      },
      "source": [
        "Роскошно нанов нет"
      ]
    },
    {
      "cell_type": "markdown",
      "metadata": {
        "id": "VrS9BqMNYbIo",
        "colab_type": "text"
      },
      "source": [
        "### Вывод координат на карту"
      ]
    },
    {
      "cell_type": "code",
      "metadata": {
        "id": "rrUtLLP6YarH",
        "colab_type": "code",
        "colab": {}
      },
      "source": [
        "# Установка/импорт карт\n",
        "try:\n",
        "  from mpl_toolkits.basemap import Basemap\n",
        "except Exception:\n",
        "  !apt-get install libgeos-3.5.0\n",
        "  !apt-get install libgeos-dev\n",
        "  !pip install https://github.com/matplotlib/basemap/archive/master.zip\n",
        "  from mpl_toolkits.basemap import Basemap"
      ],
      "execution_count": 0,
      "outputs": []
    },
    {
      "cell_type": "markdown",
      "metadata": {
        "id": "5zLoz7tJOPDU",
        "colab_type": "text"
      },
      "source": [
        "Ого, да это Китай"
      ]
    },
    {
      "cell_type": "code",
      "metadata": {
        "id": "AEsfiutUYWpf",
        "colab_type": "code",
        "outputId": "de1d7c9a-5d1c-46eb-fe47-1028c40bd364",
        "colab": {
          "base_uri": "https://localhost:8080/",
          "height": 594
        }
      },
      "source": [
        "# Draw our points on map, it is square 5x5 degrees\n",
        "fig = plt.figure(figsize=(15,10))\n",
        "\n",
        "map = Basemap(width=1E6,\n",
        "              height=1.2E6,\n",
        "              projection='lcc',\n",
        "              lat_0=30.5,\n",
        "              lon_0=113,\n",
        "              resolution='h')\n",
        "map.shadedrelief()\n",
        "map.drawcoastlines(color='gray')\n",
        "map.drawcountries(color='gray')\n",
        "map.drawrivers()\n",
        "\n",
        "map.drawmeridians(np.arange(0,360,1))\n",
        "map.drawparallels(np.arange(-90,90,1))\n",
        "map.bluemarble()\n",
        "lon = [coord[0] for coord in point_coords]\n",
        "lat = [coord[1] for coord in point_coords]\n",
        "map.scatter(lon, lat, latlon=True, s=2)\n",
        "plt.title('Базовые станции на територрии \\'Китая\\'')\n",
        "plt.show()"
      ],
      "execution_count": 0,
      "outputs": [
        {
          "output_type": "display_data",
          "data": {
            "image/png": "[encoded data removed]",
            "text/plain": [
              "<Figure size 1080x720 with 1 Axes>"
            ]
          },
          "metadata": {
            "tags": []
          }
        }
      ]
    },
    {
      "cell_type": "markdown",
      "metadata": {
        "id": "HqGPFSgYQM0j",
        "colab_type": "text"
      },
      "source": [
        "## Генерация фичей"
      ]
    },
    {
      "cell_type": "code",
      "metadata": {
        "id": "T1tQog_OQ_-9",
        "colab_type": "code",
        "outputId": "4ff6afee-b9d8-472d-ece6-6ab6772b3efc",
        "colab": {
          "base_uri": "https://localhost:8080/",
          "height": 313
        }
      },
      "source": [
        "# Dataframe в данный момент\n",
        "train_df.head(5)"
      ],
      "execution_count": 0,
      "outputs": [
        {
          "output_type": "execute_result",
          "data": {
            "text/html": [
              "<div>\n",
              "<style scoped>\n",
              "    .dataframe tbody tr th:only-of-type {\n",
              "        vertical-align: middle;\n",
              "    }\n",
              "\n",
              "    .dataframe tbody tr th {\n",
              "        vertical-align: top;\n",
              "    }\n",
              "\n",
              "    .dataframe thead th {\n",
              "        text-align: right;\n",
              "    }\n",
              "</style>\n",
              "<table border=\"1\" class=\"dataframe\">\n",
              "  <thead>\n",
              "    <tr style=\"text-align: right;\">\n",
              "      <th></th>\n",
              "      <th>time_start</th>\n",
              "      <th>time_end</th>\n",
              "      <th>place_latitude</th>\n",
              "      <th>place_longitude</th>\n",
              "      <th>service_time</th>\n",
              "      <th>service_time_minutes</th>\n",
              "      <th>coord</th>\n",
              "    </tr>\n",
              "  </thead>\n",
              "  <tbody>\n",
              "    <tr>\n",
              "      <th>26632</th>\n",
              "      <td>2018-03-12 14:24:43</td>\n",
              "      <td>2018-03-12 17:26:54</td>\n",
              "      <td>31.96447</td>\n",
              "      <td>111.01</td>\n",
              "      <td>03:02:11</td>\n",
              "      <td>182.183333</td>\n",
              "      <td>(111.01, 31.964470000000002)</td>\n",
              "    </tr>\n",
              "    <tr>\n",
              "      <th>26640</th>\n",
              "      <td>2018-03-30 09:16:33</td>\n",
              "      <td>2018-03-30 10:33:58</td>\n",
              "      <td>31.96447</td>\n",
              "      <td>111.01</td>\n",
              "      <td>01:17:25</td>\n",
              "      <td>77.416667</td>\n",
              "      <td>(111.01, 31.964470000000002)</td>\n",
              "    </tr>\n",
              "    <tr>\n",
              "      <th>26609</th>\n",
              "      <td>2018-07-24 10:18:12</td>\n",
              "      <td>2018-07-24 11:05:42</td>\n",
              "      <td>31.96447</td>\n",
              "      <td>111.01</td>\n",
              "      <td>00:47:30</td>\n",
              "      <td>47.500000</td>\n",
              "      <td>(111.01, 31.964470000000002)</td>\n",
              "    </tr>\n",
              "    <tr>\n",
              "      <th>26612</th>\n",
              "      <td>2018-07-25 15:25:34</td>\n",
              "      <td>2018-07-25 16:22:57</td>\n",
              "      <td>31.96447</td>\n",
              "      <td>111.01</td>\n",
              "      <td>00:57:23</td>\n",
              "      <td>57.383333</td>\n",
              "      <td>(111.01, 31.964470000000002)</td>\n",
              "    </tr>\n",
              "    <tr>\n",
              "      <th>26613</th>\n",
              "      <td>2018-09-19 11:57:56</td>\n",
              "      <td>2018-09-19 13:09:44</td>\n",
              "      <td>31.96447</td>\n",
              "      <td>111.01</td>\n",
              "      <td>01:11:48</td>\n",
              "      <td>71.800000</td>\n",
              "      <td>(111.01, 31.964470000000002)</td>\n",
              "    </tr>\n",
              "  </tbody>\n",
              "</table>\n",
              "</div>"
            ],
            "text/plain": [
              "               time_start  ...                         coord\n",
              "26632 2018-03-12 14:24:43  ...  (111.01, 31.964470000000002)\n",
              "26640 2018-03-30 09:16:33  ...  (111.01, 31.964470000000002)\n",
              "26609 2018-07-24 10:18:12  ...  (111.01, 31.964470000000002)\n",
              "26612 2018-07-25 15:25:34  ...  (111.01, 31.964470000000002)\n",
              "26613 2018-09-19 11:57:56  ...  (111.01, 31.964470000000002)\n",
              "\n",
              "[5 rows x 7 columns]"
            ]
          },
          "metadata": {
            "tags": []
          },
          "execution_count": 160
        }
      ]
    },
    {
      "cell_type": "markdown",
      "metadata": {
        "id": "nHQDCRapRGzT",
        "colab_type": "text"
      },
      "source": [
        "### Добавление признаков связавнных с координатами"
      ]
    },
    {
      "cell_type": "markdown",
      "metadata": {
        "id": "-3dPVIutROgB",
        "colab_type": "text"
      },
      "source": [
        "#### Добавление часового пояса\n",
        "Бесполезно, здесь для красоты"
      ]
    },
    {
      "cell_type": "code",
      "metadata": {
        "id": "4Zf0J6IDQLmM",
        "colab_type": "code",
        "colab": {}
      },
      "source": [
        "# Импорт/установка библиотеки с часовыми поясами\n",
        "try:\n",
        "  from timezonefinder import TimezoneFinder\n",
        "except Exception:\n",
        "  !pip install timezonefinder\n",
        "  from timezonefinder import TimezoneFinder"
      ],
      "execution_count": 0,
      "outputs": []
    },
    {
      "cell_type": "code",
      "metadata": {
        "id": "GrVxS6OSYXfj",
        "colab_type": "code",
        "outputId": "033ea5c8-3ac4-400b-e57c-655a8a5daf71",
        "colab": {
          "base_uri": "https://localhost:8080/"
        }
      },
      "source": [
        "tf = TimezoneFinder()\n",
        "# Example from docs\n",
        "longitude = point_coords[0][0]\n",
        "latitude = point_coords[0][1]\n",
        "tf.timezone_at(lng=longitude, lat=latitude) # returns 'Europe/Berlin'"
      ],
      "execution_count": 0,
      "outputs": [
        {
          "output_type": "execute_result",
          "data": {
            "text/plain": [
              "'Asia/Shanghai'"
            ]
          },
          "metadata": {
            "tags": []
          },
          "execution_count": 162
        }
      ]
    },
    {
      "cell_type": "code",
      "metadata": {
        "id": "Qqrw07_AQu6p",
        "colab_type": "code",
        "colab": {}
      },
      "source": [
        "train_df['timezone'] = train_df['coord']\\\n",
        "                        .apply(lambda x:\n",
        "                               tf.timezone_at(lng=x[0], lat=x[1]))"
      ],
      "execution_count": 0,
      "outputs": []
    },
    {
      "cell_type": "code",
      "metadata": {
        "id": "2OrsMOtDRnii",
        "colab_type": "code",
        "outputId": "7650631c-fe8f-43df-970b-685ad6a4610b",
        "colab": {
          "base_uri": "https://localhost:8080/"
        }
      },
      "source": [
        "train_df.timezone.unique()"
      ],
      "execution_count": 0,
      "outputs": [
        {
          "output_type": "execute_result",
          "data": {
            "text/plain": [
              "array(['Asia/Shanghai'], dtype=object)"
            ]
          },
          "metadata": {
            "tags": []
          },
          "execution_count": 164
        }
      ]
    },
    {
      "cell_type": "markdown",
      "metadata": {
        "id": "6NQ3ibQQScQd",
        "colab_type": "text"
      },
      "source": [
        "Везде один и тот же часовой пояс, значит это бесполезный признак, к сожалению, переходим ко времени"
      ]
    },
    {
      "cell_type": "code",
      "metadata": {
        "id": "M2aiNPn6aKpW",
        "colab_type": "code",
        "colab": {}
      },
      "source": [
        "train_df = train_df.drop('timezone', axis=1)"
      ],
      "execution_count": 0,
      "outputs": []
    },
    {
      "cell_type": "markdown",
      "metadata": {
        "id": "q-2hOJTqSqW2",
        "colab_type": "text"
      },
      "source": [
        "### Добавление признаков связанных со временем"
      ]
    },
    {
      "cell_type": "markdown",
      "metadata": {
        "id": "I7cPgPirSxX6",
        "colab_type": "text"
      },
      "source": [
        "#### Добавим времена года\n",
        "Сделаем категориальный признак в виде сезона:\n",
        "  1. Зима\n",
        "  2. Весна\n",
        "  3. Лето\n",
        "  4. Осень"
      ]
    },
    {
      "cell_type": "code",
      "metadata": {
        "id": "PWGrAP_NSpuU",
        "colab_type": "code",
        "colab": {}
      },
      "source": [
        "seasons_dict = {\n",
        "    1: [12, 1, 2], # winter\n",
        "    2: range(3, 6), # spring\n",
        "    3: range(6, 9), # summer time sadness\n",
        "    4: range(9, 12) # autumn\n",
        "}\n",
        "def get_season(month):\n",
        "  for season, gap in seasons_dict.items():\n",
        "    if month in gap:\n",
        "      return season\n",
        "  return -1"
      ],
      "execution_count": 0,
      "outputs": []
    },
    {
      "cell_type": "code",
      "metadata": {
        "id": "KBGs6eWfY_kj",
        "colab_type": "code",
        "colab": {}
      },
      "source": [
        "def add_season_column(df):\n",
        "  df['season'] = df['time_start']\\\n",
        "                    .apply(lambda x: get_season(x.month))\n",
        "add_season_column(train_df)"
      ],
      "execution_count": 0,
      "outputs": []
    },
    {
      "cell_type": "code",
      "metadata": {
        "id": "lf9r3b9MaDf1",
        "colab_type": "code",
        "outputId": "5033e4fe-87f6-4a71-c17c-a8d4578109ad",
        "colab": {
          "base_uri": "https://localhost:8080/",
          "height": 313
        }
      },
      "source": [
        "train_df.head(5)"
      ],
      "execution_count": 0,
      "outputs": [
        {
          "output_type": "execute_result",
          "data": {
            "text/html": [
              "<div>\n",
              "<style scoped>\n",
              "    .dataframe tbody tr th:only-of-type {\n",
              "        vertical-align: middle;\n",
              "    }\n",
              "\n",
              "    .dataframe tbody tr th {\n",
              "        vertical-align: top;\n",
              "    }\n",
              "\n",
              "    .dataframe thead th {\n",
              "        text-align: right;\n",
              "    }\n",
              "</style>\n",
              "<table border=\"1\" class=\"dataframe\">\n",
              "  <thead>\n",
              "    <tr style=\"text-align: right;\">\n",
              "      <th></th>\n",
              "      <th>time_start</th>\n",
              "      <th>time_end</th>\n",
              "      <th>place_latitude</th>\n",
              "      <th>place_longitude</th>\n",
              "      <th>service_time</th>\n",
              "      <th>service_time_minutes</th>\n",
              "      <th>coord</th>\n",
              "      <th>season</th>\n",
              "    </tr>\n",
              "  </thead>\n",
              "  <tbody>\n",
              "    <tr>\n",
              "      <th>26632</th>\n",
              "      <td>2018-03-12 14:24:43</td>\n",
              "      <td>2018-03-12 17:26:54</td>\n",
              "      <td>31.96447</td>\n",
              "      <td>111.01</td>\n",
              "      <td>03:02:11</td>\n",
              "      <td>182.183333</td>\n",
              "      <td>(111.01, 31.964470000000002)</td>\n",
              "      <td>2</td>\n",
              "    </tr>\n",
              "    <tr>\n",
              "      <th>26640</th>\n",
              "      <td>2018-03-30 09:16:33</td>\n",
              "      <td>2018-03-30 10:33:58</td>\n",
              "      <td>31.96447</td>\n",
              "      <td>111.01</td>\n",
              "      <td>01:17:25</td>\n",
              "      <td>77.416667</td>\n",
              "      <td>(111.01, 31.964470000000002)</td>\n",
              "      <td>2</td>\n",
              "    </tr>\n",
              "    <tr>\n",
              "      <th>26609</th>\n",
              "      <td>2018-07-24 10:18:12</td>\n",
              "      <td>2018-07-24 11:05:42</td>\n",
              "      <td>31.96447</td>\n",
              "      <td>111.01</td>\n",
              "      <td>00:47:30</td>\n",
              "      <td>47.500000</td>\n",
              "      <td>(111.01, 31.964470000000002)</td>\n",
              "      <td>3</td>\n",
              "    </tr>\n",
              "    <tr>\n",
              "      <th>26612</th>\n",
              "      <td>2018-07-25 15:25:34</td>\n",
              "      <td>2018-07-25 16:22:57</td>\n",
              "      <td>31.96447</td>\n",
              "      <td>111.01</td>\n",
              "      <td>00:57:23</td>\n",
              "      <td>57.383333</td>\n",
              "      <td>(111.01, 31.964470000000002)</td>\n",
              "      <td>3</td>\n",
              "    </tr>\n",
              "    <tr>\n",
              "      <th>26613</th>\n",
              "      <td>2018-09-19 11:57:56</td>\n",
              "      <td>2018-09-19 13:09:44</td>\n",
              "      <td>31.96447</td>\n",
              "      <td>111.01</td>\n",
              "      <td>01:11:48</td>\n",
              "      <td>71.800000</td>\n",
              "      <td>(111.01, 31.964470000000002)</td>\n",
              "      <td>4</td>\n",
              "    </tr>\n",
              "  </tbody>\n",
              "</table>\n",
              "</div>"
            ],
            "text/plain": [
              "               time_start  ... season\n",
              "26632 2018-03-12 14:24:43  ...      2\n",
              "26640 2018-03-30 09:16:33  ...      2\n",
              "26609 2018-07-24 10:18:12  ...      3\n",
              "26612 2018-07-25 15:25:34  ...      3\n",
              "26613 2018-09-19 11:57:56  ...      4\n",
              "\n",
              "[5 rows x 8 columns]"
            ]
          },
          "metadata": {
            "tags": []
          },
          "execution_count": 168
        }
      ]
    },
    {
      "cell_type": "markdown",
      "metadata": {
        "id": "5q-_y06RakIR",
        "colab_type": "text"
      },
      "source": [
        "#### Добавления колонки для ночи\n",
        "Колонка сообщающая о происшествии в ночное время"
      ]
    },
    {
      "cell_type": "code",
      "metadata": {
        "id": "lXN_xdv7ahNq",
        "colab_type": "code",
        "colab": {}
      },
      "source": [
        "daytime_dict = {\n",
        "    1: list(range(22, 25)) + list(range(7)), # It's nighttime\n",
        "}\n",
        "def get_daytime(hour):\n",
        "  if hour in daytime_dict[1]:\n",
        "    return 1\n",
        "  return 0"
      ],
      "execution_count": 0,
      "outputs": []
    },
    {
      "cell_type": "code",
      "metadata": {
        "id": "3h3sgQdCb4x8",
        "colab_type": "code",
        "colab": {}
      },
      "source": [
        "def add_night_column(df):\n",
        "  df['night_time'] = df['time_start']\\\n",
        "                            .apply(lambda x: get_daytime(x.hour))\n",
        "add_night_column(train_df)"
      ],
      "execution_count": 0,
      "outputs": []
    },
    {
      "cell_type": "code",
      "metadata": {
        "id": "TO_9C8djcNcs",
        "colab_type": "code",
        "outputId": "0ff4ca3f-7331-426c-8a0c-5d3e89324bc3",
        "colab": {
          "base_uri": "https://localhost:8080/",
          "height": 313
        }
      },
      "source": [
        "train_df.head()"
      ],
      "execution_count": 0,
      "outputs": [
        {
          "output_type": "execute_result",
          "data": {
            "text/html": [
              "<div>\n",
              "<style scoped>\n",
              "    .dataframe tbody tr th:only-of-type {\n",
              "        vertical-align: middle;\n",
              "    }\n",
              "\n",
              "    .dataframe tbody tr th {\n",
              "        vertical-align: top;\n",
              "    }\n",
              "\n",
              "    .dataframe thead th {\n",
              "        text-align: right;\n",
              "    }\n",
              "</style>\n",
              "<table border=\"1\" class=\"dataframe\">\n",
              "  <thead>\n",
              "    <tr style=\"text-align: right;\">\n",
              "      <th></th>\n",
              "      <th>time_start</th>\n",
              "      <th>time_end</th>\n",
              "      <th>place_latitude</th>\n",
              "      <th>place_longitude</th>\n",
              "      <th>service_time</th>\n",
              "      <th>service_time_minutes</th>\n",
              "      <th>coord</th>\n",
              "      <th>season</th>\n",
              "      <th>night_time</th>\n",
              "    </tr>\n",
              "  </thead>\n",
              "  <tbody>\n",
              "    <tr>\n",
              "      <th>26632</th>\n",
              "      <td>2018-03-12 14:24:43</td>\n",
              "      <td>2018-03-12 17:26:54</td>\n",
              "      <td>31.96447</td>\n",
              "      <td>111.01</td>\n",
              "      <td>03:02:11</td>\n",
              "      <td>182.183333</td>\n",
              "      <td>(111.01, 31.964470000000002)</td>\n",
              "      <td>2</td>\n",
              "      <td>0</td>\n",
              "    </tr>\n",
              "    <tr>\n",
              "      <th>26640</th>\n",
              "      <td>2018-03-30 09:16:33</td>\n",
              "      <td>2018-03-30 10:33:58</td>\n",
              "      <td>31.96447</td>\n",
              "      <td>111.01</td>\n",
              "      <td>01:17:25</td>\n",
              "      <td>77.416667</td>\n",
              "      <td>(111.01, 31.964470000000002)</td>\n",
              "      <td>2</td>\n",
              "      <td>0</td>\n",
              "    </tr>\n",
              "    <tr>\n",
              "      <th>26609</th>\n",
              "      <td>2018-07-24 10:18:12</td>\n",
              "      <td>2018-07-24 11:05:42</td>\n",
              "      <td>31.96447</td>\n",
              "      <td>111.01</td>\n",
              "      <td>00:47:30</td>\n",
              "      <td>47.500000</td>\n",
              "      <td>(111.01, 31.964470000000002)</td>\n",
              "      <td>3</td>\n",
              "      <td>0</td>\n",
              "    </tr>\n",
              "    <tr>\n",
              "      <th>26612</th>\n",
              "      <td>2018-07-25 15:25:34</td>\n",
              "      <td>2018-07-25 16:22:57</td>\n",
              "      <td>31.96447</td>\n",
              "      <td>111.01</td>\n",
              "      <td>00:57:23</td>\n",
              "      <td>57.383333</td>\n",
              "      <td>(111.01, 31.964470000000002)</td>\n",
              "      <td>3</td>\n",
              "      <td>0</td>\n",
              "    </tr>\n",
              "    <tr>\n",
              "      <th>26613</th>\n",
              "      <td>2018-09-19 11:57:56</td>\n",
              "      <td>2018-09-19 13:09:44</td>\n",
              "      <td>31.96447</td>\n",
              "      <td>111.01</td>\n",
              "      <td>01:11:48</td>\n",
              "      <td>71.800000</td>\n",
              "      <td>(111.01, 31.964470000000002)</td>\n",
              "      <td>4</td>\n",
              "      <td>0</td>\n",
              "    </tr>\n",
              "  </tbody>\n",
              "</table>\n",
              "</div>"
            ],
            "text/plain": [
              "               time_start            time_end  ...  season  night_time\n",
              "26632 2018-03-12 14:24:43 2018-03-12 17:26:54  ...       2           0\n",
              "26640 2018-03-30 09:16:33 2018-03-30 10:33:58  ...       2           0\n",
              "26609 2018-07-24 10:18:12 2018-07-24 11:05:42  ...       3           0\n",
              "26612 2018-07-25 15:25:34 2018-07-25 16:22:57  ...       3           0\n",
              "26613 2018-09-19 11:57:56 2018-09-19 13:09:44  ...       4           0\n",
              "\n",
              "[5 rows x 9 columns]"
            ]
          },
          "metadata": {
            "tags": []
          },
          "execution_count": 171
        }
      ]
    },
    {
      "cell_type": "markdown",
      "metadata": {
        "id": "RYI4ZXBt0zTd",
        "colab_type": "text"
      },
      "source": [
        "#### Добавление колонки с номером часа начала сбоя"
      ]
    },
    {
      "cell_type": "code",
      "metadata": {
        "id": "IJvz7ds5066D",
        "colab_type": "code",
        "colab": {}
      },
      "source": [
        "def add_hour_start_column(df):\n",
        "  df['hour_start'] = df['time_start'].apply(lambda x: x.hour)\n",
        "add_hour_start_column(train_df)"
      ],
      "execution_count": 0,
      "outputs": []
    },
    {
      "cell_type": "code",
      "metadata": {
        "id": "hnLf0pNH06wq",
        "colab_type": "code",
        "outputId": "a0b2fb29-045a-41c5-80b3-c8d6c5502606",
        "colab": {
          "base_uri": "https://localhost:8080/",
          "height": 313
        }
      },
      "source": [
        "train_df.head()"
      ],
      "execution_count": 0,
      "outputs": [
        {
          "output_type": "execute_result",
          "data": {
            "text/html": [
              "<div>\n",
              "<style scoped>\n",
              "    .dataframe tbody tr th:only-of-type {\n",
              "        vertical-align: middle;\n",
              "    }\n",
              "\n",
              "    .dataframe tbody tr th {\n",
              "        vertical-align: top;\n",
              "    }\n",
              "\n",
              "    .dataframe thead th {\n",
              "        text-align: right;\n",
              "    }\n",
              "</style>\n",
              "<table border=\"1\" class=\"dataframe\">\n",
              "  <thead>\n",
              "    <tr style=\"text-align: right;\">\n",
              "      <th></th>\n",
              "      <th>time_start</th>\n",
              "      <th>time_end</th>\n",
              "      <th>place_latitude</th>\n",
              "      <th>place_longitude</th>\n",
              "      <th>service_time</th>\n",
              "      <th>service_time_minutes</th>\n",
              "      <th>coord</th>\n",
              "      <th>season</th>\n",
              "      <th>night_time</th>\n",
              "      <th>hour_start</th>\n",
              "    </tr>\n",
              "  </thead>\n",
              "  <tbody>\n",
              "    <tr>\n",
              "      <th>26632</th>\n",
              "      <td>2018-03-12 14:24:43</td>\n",
              "      <td>2018-03-12 17:26:54</td>\n",
              "      <td>31.96447</td>\n",
              "      <td>111.01</td>\n",
              "      <td>03:02:11</td>\n",
              "      <td>182.183333</td>\n",
              "      <td>(111.01, 31.964470000000002)</td>\n",
              "      <td>2</td>\n",
              "      <td>0</td>\n",
              "      <td>14</td>\n",
              "    </tr>\n",
              "    <tr>\n",
              "      <th>26640</th>\n",
              "      <td>2018-03-30 09:16:33</td>\n",
              "      <td>2018-03-30 10:33:58</td>\n",
              "      <td>31.96447</td>\n",
              "      <td>111.01</td>\n",
              "      <td>01:17:25</td>\n",
              "      <td>77.416667</td>\n",
              "      <td>(111.01, 31.964470000000002)</td>\n",
              "      <td>2</td>\n",
              "      <td>0</td>\n",
              "      <td>9</td>\n",
              "    </tr>\n",
              "    <tr>\n",
              "      <th>26609</th>\n",
              "      <td>2018-07-24 10:18:12</td>\n",
              "      <td>2018-07-24 11:05:42</td>\n",
              "      <td>31.96447</td>\n",
              "      <td>111.01</td>\n",
              "      <td>00:47:30</td>\n",
              "      <td>47.500000</td>\n",
              "      <td>(111.01, 31.964470000000002)</td>\n",
              "      <td>3</td>\n",
              "      <td>0</td>\n",
              "      <td>10</td>\n",
              "    </tr>\n",
              "    <tr>\n",
              "      <th>26612</th>\n",
              "      <td>2018-07-25 15:25:34</td>\n",
              "      <td>2018-07-25 16:22:57</td>\n",
              "      <td>31.96447</td>\n",
              "      <td>111.01</td>\n",
              "      <td>00:57:23</td>\n",
              "      <td>57.383333</td>\n",
              "      <td>(111.01, 31.964470000000002)</td>\n",
              "      <td>3</td>\n",
              "      <td>0</td>\n",
              "      <td>15</td>\n",
              "    </tr>\n",
              "    <tr>\n",
              "      <th>26613</th>\n",
              "      <td>2018-09-19 11:57:56</td>\n",
              "      <td>2018-09-19 13:09:44</td>\n",
              "      <td>31.96447</td>\n",
              "      <td>111.01</td>\n",
              "      <td>01:11:48</td>\n",
              "      <td>71.800000</td>\n",
              "      <td>(111.01, 31.964470000000002)</td>\n",
              "      <td>4</td>\n",
              "      <td>0</td>\n",
              "      <td>11</td>\n",
              "    </tr>\n",
              "  </tbody>\n",
              "</table>\n",
              "</div>"
            ],
            "text/plain": [
              "               time_start            time_end  ...  night_time  hour_start\n",
              "26632 2018-03-12 14:24:43 2018-03-12 17:26:54  ...           0          14\n",
              "26640 2018-03-30 09:16:33 2018-03-30 10:33:58  ...           0           9\n",
              "26609 2018-07-24 10:18:12 2018-07-24 11:05:42  ...           0          10\n",
              "26612 2018-07-25 15:25:34 2018-07-25 16:22:57  ...           0          15\n",
              "26613 2018-09-19 11:57:56 2018-09-19 13:09:44  ...           0          11\n",
              "\n",
              "[5 rows x 10 columns]"
            ]
          },
          "metadata": {
            "tags": []
          },
          "execution_count": 173
        }
      ]
    },
    {
      "cell_type": "markdown",
      "metadata": {
        "id": "G94nT2AXI0k6",
        "colab_type": "text"
      },
      "source": [
        "#### Добавление колонки выходного дня"
      ]
    },
    {
      "cell_type": "code",
      "metadata": {
        "id": "7VB6Q9KRI52h",
        "colab_type": "code",
        "colab": {}
      },
      "source": [
        "# holidays import\n",
        "try:\n",
        "  import holidays\n",
        "except Exception:\n",
        "  !pip install holidays\n",
        "  import holidays"
      ],
      "execution_count": 0,
      "outputs": []
    },
    {
      "cell_type": "code",
      "metadata": {
        "id": "CH3LXeWGJF4e",
        "colab_type": "code",
        "colab": {}
      },
      "source": [
        "# Используем Российские праздники\n",
        "ru_holidays = holidays.RU()"
      ],
      "execution_count": 0,
      "outputs": []
    },
    {
      "cell_type": "code",
      "metadata": {
        "id": "ufMAxpAELLUG",
        "colab_type": "code",
        "colab": {}
      },
      "source": [
        "def is_holiday(date):\n",
        "  if date in ru_holidays or date.dayofweek == 6:\n",
        "    return 1\n",
        "  return 0"
      ],
      "execution_count": 0,
      "outputs": []
    },
    {
      "cell_type": "code",
      "metadata": {
        "id": "g9EjM7r5KHlk",
        "colab_type": "code",
        "colab": {}
      },
      "source": [
        "def add_holiday_column(df):\n",
        "  df['holiday'] = df['time_start'].apply(lambda x: is_holiday(x))\n",
        "add_holiday_column(train_df)"
      ],
      "execution_count": 0,
      "outputs": []
    },
    {
      "cell_type": "code",
      "metadata": {
        "id": "mMqCNEVaK3wS",
        "colab_type": "code",
        "outputId": "8045b778-a077-4ada-b502-1aa44c6c0aac",
        "colab": {
          "base_uri": "https://localhost:8080/",
          "height": 313
        }
      },
      "source": [
        "# Вуаля\n",
        "train_df.head()"
      ],
      "execution_count": 0,
      "outputs": [
        {
          "output_type": "execute_result",
          "data": {
            "text/html": [
              "<div>\n",
              "<style scoped>\n",
              "    .dataframe tbody tr th:only-of-type {\n",
              "        vertical-align: middle;\n",
              "    }\n",
              "\n",
              "    .dataframe tbody tr th {\n",
              "        vertical-align: top;\n",
              "    }\n",
              "\n",
              "    .dataframe thead th {\n",
              "        text-align: right;\n",
              "    }\n",
              "</style>\n",
              "<table border=\"1\" class=\"dataframe\">\n",
              "  <thead>\n",
              "    <tr style=\"text-align: right;\">\n",
              "      <th></th>\n",
              "      <th>time_start</th>\n",
              "      <th>time_end</th>\n",
              "      <th>place_latitude</th>\n",
              "      <th>place_longitude</th>\n",
              "      <th>service_time</th>\n",
              "      <th>service_time_minutes</th>\n",
              "      <th>coord</th>\n",
              "      <th>season</th>\n",
              "      <th>night_time</th>\n",
              "      <th>hour_start</th>\n",
              "      <th>holiday</th>\n",
              "    </tr>\n",
              "  </thead>\n",
              "  <tbody>\n",
              "    <tr>\n",
              "      <th>26632</th>\n",
              "      <td>2018-03-12 14:24:43</td>\n",
              "      <td>2018-03-12 17:26:54</td>\n",
              "      <td>31.96447</td>\n",
              "      <td>111.01</td>\n",
              "      <td>03:02:11</td>\n",
              "      <td>182.183333</td>\n",
              "      <td>(111.01, 31.964470000000002)</td>\n",
              "      <td>2</td>\n",
              "      <td>0</td>\n",
              "      <td>14</td>\n",
              "      <td>0</td>\n",
              "    </tr>\n",
              "    <tr>\n",
              "      <th>26640</th>\n",
              "      <td>2018-03-30 09:16:33</td>\n",
              "      <td>2018-03-30 10:33:58</td>\n",
              "      <td>31.96447</td>\n",
              "      <td>111.01</td>\n",
              "      <td>01:17:25</td>\n",
              "      <td>77.416667</td>\n",
              "      <td>(111.01, 31.964470000000002)</td>\n",
              "      <td>2</td>\n",
              "      <td>0</td>\n",
              "      <td>9</td>\n",
              "      <td>0</td>\n",
              "    </tr>\n",
              "    <tr>\n",
              "      <th>26609</th>\n",
              "      <td>2018-07-24 10:18:12</td>\n",
              "      <td>2018-07-24 11:05:42</td>\n",
              "      <td>31.96447</td>\n",
              "      <td>111.01</td>\n",
              "      <td>00:47:30</td>\n",
              "      <td>47.500000</td>\n",
              "      <td>(111.01, 31.964470000000002)</td>\n",
              "      <td>3</td>\n",
              "      <td>0</td>\n",
              "      <td>10</td>\n",
              "      <td>0</td>\n",
              "    </tr>\n",
              "    <tr>\n",
              "      <th>26612</th>\n",
              "      <td>2018-07-25 15:25:34</td>\n",
              "      <td>2018-07-25 16:22:57</td>\n",
              "      <td>31.96447</td>\n",
              "      <td>111.01</td>\n",
              "      <td>00:57:23</td>\n",
              "      <td>57.383333</td>\n",
              "      <td>(111.01, 31.964470000000002)</td>\n",
              "      <td>3</td>\n",
              "      <td>0</td>\n",
              "      <td>15</td>\n",
              "      <td>0</td>\n",
              "    </tr>\n",
              "    <tr>\n",
              "      <th>26613</th>\n",
              "      <td>2018-09-19 11:57:56</td>\n",
              "      <td>2018-09-19 13:09:44</td>\n",
              "      <td>31.96447</td>\n",
              "      <td>111.01</td>\n",
              "      <td>01:11:48</td>\n",
              "      <td>71.800000</td>\n",
              "      <td>(111.01, 31.964470000000002)</td>\n",
              "      <td>4</td>\n",
              "      <td>0</td>\n",
              "      <td>11</td>\n",
              "      <td>0</td>\n",
              "    </tr>\n",
              "  </tbody>\n",
              "</table>\n",
              "</div>"
            ],
            "text/plain": [
              "               time_start            time_end  ...  hour_start  holiday\n",
              "26632 2018-03-12 14:24:43 2018-03-12 17:26:54  ...          14        0\n",
              "26640 2018-03-30 09:16:33 2018-03-30 10:33:58  ...           9        0\n",
              "26609 2018-07-24 10:18:12 2018-07-24 11:05:42  ...          10        0\n",
              "26612 2018-07-25 15:25:34 2018-07-25 16:22:57  ...          15        0\n",
              "26613 2018-09-19 11:57:56 2018-09-19 13:09:44  ...          11        0\n",
              "\n",
              "[5 rows x 11 columns]"
            ]
          },
          "metadata": {
            "tags": []
          },
          "execution_count": 178
        }
      ]
    },
    {
      "cell_type": "markdown",
      "metadata": {
        "id": "Uefgdbm7NFVj",
        "colab_type": "text"
      },
      "source": [
        "#### Функция для добавление всех временных фичей"
      ]
    },
    {
      "cell_type": "code",
      "metadata": {
        "id": "nO-h9pm4NKia",
        "colab_type": "code",
        "colab": {}
      },
      "source": [
        "# Для тестовых данных\n",
        "def add_time_features(df):\n",
        "  add_season_column(df)\n",
        "  add_night_column(df)\n",
        "  add_hour_start_column(df)\n",
        "  add_holiday_column(df)"
      ],
      "execution_count": 0,
      "outputs": []
    },
    {
      "cell_type": "markdown",
      "metadata": {
        "id": "l9ADioQhdHzF",
        "colab_type": "text"
      },
      "source": [
        "## Предобработка данных"
      ]
    },
    {
      "cell_type": "markdown",
      "metadata": {
        "id": "SZIaSNOdkW-_",
        "colab_type": "text"
      },
      "source": [
        "#### Избавимся от выбросов"
      ]
    },
    {
      "cell_type": "code",
      "metadata": {
        "id": "Jk4RoRsskU4g",
        "colab_type": "code",
        "outputId": "59876ea4-9733-4500-a417-e9eba7a02cf3",
        "colab": {
          "base_uri": "https://localhost:8080/",
          "height": 34
        }
      },
      "source": [
        "# В качестве границы возьмем 96 процентиль\n",
        "time_threshold = train_df.service_time.quantile(0.96)\n",
        "time_threshold"
      ],
      "execution_count": 0,
      "outputs": [
        {
          "output_type": "execute_result",
          "data": {
            "text/plain": [
              "Timedelta('1 days 05:43:24.199999')"
            ]
          },
          "metadata": {
            "tags": []
          },
          "execution_count": 180
        }
      ]
    },
    {
      "cell_type": "code",
      "metadata": {
        "id": "Nfnviq5bfbIs",
        "colab_type": "code",
        "outputId": "eab31d5c-678f-4a26-f261-48ba5b634448",
        "colab": {
          "base_uri": "https://localhost:8080/",
          "height": 34
        }
      },
      "source": [
        "pd.Timedelta('1 days 05:43:24.199999').seconds / 60"
      ],
      "execution_count": 0,
      "outputs": [
        {
          "output_type": "execute_result",
          "data": {
            "text/plain": [
              "343.4"
            ]
          },
          "metadata": {
            "tags": []
          },
          "execution_count": 181
        }
      ]
    },
    {
      "cell_type": "code",
      "metadata": {
        "id": "Pn2wsyjPkAy4",
        "colab_type": "code",
        "outputId": "bfa85842-6696-4de2-f85b-6f2a084a06c4",
        "colab": {
          "base_uri": "https://localhost:8080/",
          "height": 34
        }
      },
      "source": [
        "# Оибросим все значения которые больше 96 процентиля\n",
        "train_df_mod = train_df[train_df['service_time'] < time_threshold]\n",
        "print(\"Удалено экземпляров:\", train_df.shape[0] - train_df_mod.shape[0])"
      ],
      "execution_count": 0,
      "outputs": [
        {
          "output_type": "stream",
          "text": [
            "Удалено экземпляров: 3129\n"
          ],
          "name": "stdout"
        }
      ]
    },
    {
      "cell_type": "markdown",
      "metadata": {
        "id": "x8ZMAwkS3hIJ",
        "colab_type": "text"
      },
      "source": [
        "### Избавимся от ненужных колонок"
      ]
    },
    {
      "cell_type": "code",
      "metadata": {
        "id": "0Ch05noN3gP4",
        "colab_type": "code",
        "outputId": "6fa18663-64a7-4ab5-f9cf-7ce647450bda",
        "colab": {
          "base_uri": "https://localhost:8080/",
          "height": 400
        }
      },
      "source": [
        "# Датасет в здании\n",
        "train_df_mod.drop(['time_end', 'service_time'], axis=1, inplace=True)\n",
        "train_df_mod.head()"
      ],
      "execution_count": 0,
      "outputs": [
        {
          "output_type": "stream",
          "text": [
            "/usr/local/lib/python3.6/dist-packages/pandas/core/frame.py:4117: SettingWithCopyWarning: \n",
            "A value is trying to be set on a copy of a slice from a DataFrame\n",
            "\n",
            "See the caveats in the documentation: http://pandas.pydata.org/pandas-docs/stable/user_guide/indexing.html#returning-a-view-versus-a-copy\n",
            "  errors=errors,\n"
          ],
          "name": "stderr"
        },
        {
          "output_type": "execute_result",
          "data": {
            "text/html": [
              "<div>\n",
              "<style scoped>\n",
              "    .dataframe tbody tr th:only-of-type {\n",
              "        vertical-align: middle;\n",
              "    }\n",
              "\n",
              "    .dataframe tbody tr th {\n",
              "        vertical-align: top;\n",
              "    }\n",
              "\n",
              "    .dataframe thead th {\n",
              "        text-align: right;\n",
              "    }\n",
              "</style>\n",
              "<table border=\"1\" class=\"dataframe\">\n",
              "  <thead>\n",
              "    <tr style=\"text-align: right;\">\n",
              "      <th></th>\n",
              "      <th>time_start</th>\n",
              "      <th>place_latitude</th>\n",
              "      <th>place_longitude</th>\n",
              "      <th>service_time_minutes</th>\n",
              "      <th>coord</th>\n",
              "      <th>season</th>\n",
              "      <th>night_time</th>\n",
              "      <th>hour_start</th>\n",
              "      <th>holiday</th>\n",
              "    </tr>\n",
              "  </thead>\n",
              "  <tbody>\n",
              "    <tr>\n",
              "      <th>26632</th>\n",
              "      <td>2018-03-12 14:24:43</td>\n",
              "      <td>31.96447</td>\n",
              "      <td>111.01</td>\n",
              "      <td>182.183333</td>\n",
              "      <td>(111.01, 31.964470000000002)</td>\n",
              "      <td>2</td>\n",
              "      <td>0</td>\n",
              "      <td>14</td>\n",
              "      <td>0</td>\n",
              "    </tr>\n",
              "    <tr>\n",
              "      <th>26640</th>\n",
              "      <td>2018-03-30 09:16:33</td>\n",
              "      <td>31.96447</td>\n",
              "      <td>111.01</td>\n",
              "      <td>77.416667</td>\n",
              "      <td>(111.01, 31.964470000000002)</td>\n",
              "      <td>2</td>\n",
              "      <td>0</td>\n",
              "      <td>9</td>\n",
              "      <td>0</td>\n",
              "    </tr>\n",
              "    <tr>\n",
              "      <th>26609</th>\n",
              "      <td>2018-07-24 10:18:12</td>\n",
              "      <td>31.96447</td>\n",
              "      <td>111.01</td>\n",
              "      <td>47.500000</td>\n",
              "      <td>(111.01, 31.964470000000002)</td>\n",
              "      <td>3</td>\n",
              "      <td>0</td>\n",
              "      <td>10</td>\n",
              "      <td>0</td>\n",
              "    </tr>\n",
              "    <tr>\n",
              "      <th>26612</th>\n",
              "      <td>2018-07-25 15:25:34</td>\n",
              "      <td>31.96447</td>\n",
              "      <td>111.01</td>\n",
              "      <td>57.383333</td>\n",
              "      <td>(111.01, 31.964470000000002)</td>\n",
              "      <td>3</td>\n",
              "      <td>0</td>\n",
              "      <td>15</td>\n",
              "      <td>0</td>\n",
              "    </tr>\n",
              "    <tr>\n",
              "      <th>26613</th>\n",
              "      <td>2018-09-19 11:57:56</td>\n",
              "      <td>31.96447</td>\n",
              "      <td>111.01</td>\n",
              "      <td>71.800000</td>\n",
              "      <td>(111.01, 31.964470000000002)</td>\n",
              "      <td>4</td>\n",
              "      <td>0</td>\n",
              "      <td>11</td>\n",
              "      <td>0</td>\n",
              "    </tr>\n",
              "  </tbody>\n",
              "</table>\n",
              "</div>"
            ],
            "text/plain": [
              "               time_start  place_latitude  ...  hour_start  holiday\n",
              "26632 2018-03-12 14:24:43        31.96447  ...          14        0\n",
              "26640 2018-03-30 09:16:33        31.96447  ...           9        0\n",
              "26609 2018-07-24 10:18:12        31.96447  ...          10        0\n",
              "26612 2018-07-25 15:25:34        31.96447  ...          15        0\n",
              "26613 2018-09-19 11:57:56        31.96447  ...          11        0\n",
              "\n",
              "[5 rows x 9 columns]"
            ]
          },
          "metadata": {
            "tags": []
          },
          "execution_count": 183
        }
      ]
    },
    {
      "cell_type": "markdown",
      "metadata": {
        "id": "vaWe9FGErL20",
        "colab_type": "text"
      },
      "source": [
        "### Добавление ручной и очень хитрой группировки\n",
        "Фича Богдана"
      ]
    },
    {
      "cell_type": "code",
      "metadata": {
        "id": "b8lkF35DrSlA",
        "colab_type": "code",
        "colab": {}
      },
      "source": [
        "df_loc = train_df_mod[['time_start', 'place_latitude', 'place_longitude']]"
      ],
      "execution_count": 0,
      "outputs": []
    },
    {
      "cell_type": "code",
      "metadata": {
        "id": "SQ2v9HH0rSfn",
        "colab_type": "code",
        "outputId": "d5bf8080-e22a-4e3b-c3b7-6998ca441dc2",
        "colab": {
          "base_uri": "https://localhost:8080/",
          "height": 141
        }
      },
      "source": [
        "df_loc['time_start'] = df_loc['time_start'].apply(lambda x: x.floor('MIN'))"
      ],
      "execution_count": 0,
      "outputs": [
        {
          "output_type": "stream",
          "text": [
            "/usr/local/lib/python3.6/dist-packages/ipykernel_launcher.py:1: SettingWithCopyWarning: \n",
            "A value is trying to be set on a copy of a slice from a DataFrame.\n",
            "Try using .loc[row_indexer,col_indexer] = value instead\n",
            "\n",
            "See the caveats in the documentation: http://pandas.pydata.org/pandas-docs/stable/user_guide/indexing.html#returning-a-view-versus-a-copy\n",
            "  \"\"\"Entry point for launching an IPython kernel.\n"
          ],
          "name": "stderr"
        }
      ]
    },
    {
      "cell_type": "code",
      "metadata": {
        "id": "mW7PH24krSay",
        "colab_type": "code",
        "colab": {}
      },
      "source": [
        "new = df_loc['time_start'].value_counts()\n",
        "new = new.to_frame()\n",
        "new.rename(columns=({'time_start':'count'}), inplace=True)"
      ],
      "execution_count": 0,
      "outputs": []
    },
    {
      "cell_type": "code",
      "metadata": {
        "id": "ydNmD_u5rSO0",
        "colab_type": "code",
        "colab": {}
      },
      "source": [
        "new['time_start'] = new.index"
      ],
      "execution_count": 0,
      "outputs": []
    },
    {
      "cell_type": "code",
      "metadata": {
        "id": "s7WafeAmwQf9",
        "colab_type": "code",
        "colab": {}
      },
      "source": [
        "df_loc = pd.merge(df_loc, new, on='time_start', how='left')"
      ],
      "execution_count": 0,
      "outputs": []
    },
    {
      "cell_type": "code",
      "metadata": {
        "id": "F95D2sU5wSzp",
        "colab_type": "code",
        "outputId": "4cd337bc-de25-4d89-aa3f-354f100e806f",
        "colab": {
          "base_uri": "https://localhost:8080/",
          "height": 34
        }
      },
      "source": [
        "len(df_loc.query('count != 1')['time_start'].unique())"
      ],
      "execution_count": 0,
      "outputs": [
        {
          "output_type": "execute_result",
          "data": {
            "text/plain": [
              "8086"
            ]
          },
          "metadata": {
            "tags": []
          },
          "execution_count": 189
        }
      ]
    },
    {
      "cell_type": "code",
      "metadata": {
        "id": "ETKxfkcQwX2Z",
        "colab_type": "code",
        "colab": {}
      },
      "source": [
        "df_loc_groups = df_loc.query('count > 2')"
      ],
      "execution_count": 0,
      "outputs": []
    },
    {
      "cell_type": "code",
      "metadata": {
        "id": "NvZHMreTwXwY",
        "colab_type": "code",
        "colab": {}
      },
      "source": [
        "cl = len(df_loc_groups.time_start.unique())"
      ],
      "execution_count": 0,
      "outputs": []
    },
    {
      "cell_type": "code",
      "metadata": {
        "id": "Rx2Jb0RswXrD",
        "colab_type": "code",
        "outputId": "8e5e765d-d360-4b17-b888-777fb67d9b71",
        "colab": {
          "base_uri": "https://localhost:8080/",
          "height": 206
        }
      },
      "source": [
        "df_loc.sort_values(by='count', ascending=False).head(5)"
      ],
      "execution_count": 0,
      "outputs": [
        {
          "output_type": "execute_result",
          "data": {
            "text/html": [
              "<div>\n",
              "<style scoped>\n",
              "    .dataframe tbody tr th:only-of-type {\n",
              "        vertical-align: middle;\n",
              "    }\n",
              "\n",
              "    .dataframe tbody tr th {\n",
              "        vertical-align: top;\n",
              "    }\n",
              "\n",
              "    .dataframe thead th {\n",
              "        text-align: right;\n",
              "    }\n",
              "</style>\n",
              "<table border=\"1\" class=\"dataframe\">\n",
              "  <thead>\n",
              "    <tr style=\"text-align: right;\">\n",
              "      <th></th>\n",
              "      <th>time_start</th>\n",
              "      <th>place_latitude</th>\n",
              "      <th>place_longitude</th>\n",
              "      <th>count</th>\n",
              "    </tr>\n",
              "  </thead>\n",
              "  <tbody>\n",
              "    <tr>\n",
              "      <th>9194</th>\n",
              "      <td>2019-08-07 02:25:00</td>\n",
              "      <td>29.858603</td>\n",
              "      <td>112.895050</td>\n",
              "      <td>18</td>\n",
              "    </tr>\n",
              "    <tr>\n",
              "      <th>6754</th>\n",
              "      <td>2019-08-07 02:25:00</td>\n",
              "      <td>29.829378</td>\n",
              "      <td>112.634167</td>\n",
              "      <td>18</td>\n",
              "    </tr>\n",
              "    <tr>\n",
              "      <th>6672</th>\n",
              "      <td>2019-08-07 02:25:00</td>\n",
              "      <td>29.743636</td>\n",
              "      <td>112.620260</td>\n",
              "      <td>18</td>\n",
              "    </tr>\n",
              "    <tr>\n",
              "      <th>9479</th>\n",
              "      <td>2019-08-07 02:25:00</td>\n",
              "      <td>29.815033</td>\n",
              "      <td>112.905272</td>\n",
              "      <td>18</td>\n",
              "    </tr>\n",
              "    <tr>\n",
              "      <th>9281</th>\n",
              "      <td>2019-08-07 02:25:00</td>\n",
              "      <td>29.824883</td>\n",
              "      <td>112.902180</td>\n",
              "      <td>18</td>\n",
              "    </tr>\n",
              "  </tbody>\n",
              "</table>\n",
              "</div>"
            ],
            "text/plain": [
              "              time_start  place_latitude  place_longitude  count\n",
              "9194 2019-08-07 02:25:00       29.858603       112.895050     18\n",
              "6754 2019-08-07 02:25:00       29.829378       112.634167     18\n",
              "6672 2019-08-07 02:25:00       29.743636       112.620260     18\n",
              "9479 2019-08-07 02:25:00       29.815033       112.905272     18\n",
              "9281 2019-08-07 02:25:00       29.824883       112.902180     18"
            ]
          },
          "metadata": {
            "tags": []
          },
          "execution_count": 192
        }
      ]
    },
    {
      "cell_type": "code",
      "metadata": {
        "id": "UFCAhepfwyZ6",
        "colab_type": "code",
        "outputId": "05395212-4ca0-40d8-f79a-555305957b94",
        "colab": {
          "base_uri": "https://localhost:8080/",
          "height": 238
        }
      },
      "source": [
        "new = df_loc[['time_start','count']].groupby(by='time_start').count().sort_values('count', ascending=False)\n",
        "new['id'] = [i for i in range(new.shape[0])]\n",
        "new.head(5)"
      ],
      "execution_count": 0,
      "outputs": [
        {
          "output_type": "execute_result",
          "data": {
            "text/html": [
              "<div>\n",
              "<style scoped>\n",
              "    .dataframe tbody tr th:only-of-type {\n",
              "        vertical-align: middle;\n",
              "    }\n",
              "\n",
              "    .dataframe tbody tr th {\n",
              "        vertical-align: top;\n",
              "    }\n",
              "\n",
              "    .dataframe thead th {\n",
              "        text-align: right;\n",
              "    }\n",
              "</style>\n",
              "<table border=\"1\" class=\"dataframe\">\n",
              "  <thead>\n",
              "    <tr style=\"text-align: right;\">\n",
              "      <th></th>\n",
              "      <th>count</th>\n",
              "      <th>id</th>\n",
              "    </tr>\n",
              "    <tr>\n",
              "      <th>time_start</th>\n",
              "      <th></th>\n",
              "      <th></th>\n",
              "    </tr>\n",
              "  </thead>\n",
              "  <tbody>\n",
              "    <tr>\n",
              "      <th>2019-08-07 02:25:00</th>\n",
              "      <td>18</td>\n",
              "      <td>0</td>\n",
              "    </tr>\n",
              "    <tr>\n",
              "      <th>2018-12-16 21:35:00</th>\n",
              "      <td>16</td>\n",
              "      <td>1</td>\n",
              "    </tr>\n",
              "    <tr>\n",
              "      <th>2019-05-25 03:24:00</th>\n",
              "      <td>15</td>\n",
              "      <td>2</td>\n",
              "    </tr>\n",
              "    <tr>\n",
              "      <th>2018-09-28 08:15:00</th>\n",
              "      <td>14</td>\n",
              "      <td>3</td>\n",
              "    </tr>\n",
              "    <tr>\n",
              "      <th>2018-09-28 18:37:00</th>\n",
              "      <td>14</td>\n",
              "      <td>4</td>\n",
              "    </tr>\n",
              "  </tbody>\n",
              "</table>\n",
              "</div>"
            ],
            "text/plain": [
              "                     count  id\n",
              "time_start                    \n",
              "2019-08-07 02:25:00     18   0\n",
              "2018-12-16 21:35:00     16   1\n",
              "2019-05-25 03:24:00     15   2\n",
              "2018-09-28 08:15:00     14   3\n",
              "2018-09-28 18:37:00     14   4"
            ]
          },
          "metadata": {
            "tags": []
          },
          "execution_count": 193
        }
      ]
    },
    {
      "cell_type": "code",
      "metadata": {
        "id": "HhB9q_Ejw1qd",
        "colab_type": "code",
        "colab": {}
      },
      "source": [
        "df_numed = pd.merge(df_loc, new[['id']], how='left', on='time_start').sort_values('count', ascending=False)"
      ],
      "execution_count": 0,
      "outputs": []
    },
    {
      "cell_type": "code",
      "metadata": {
        "id": "uDVhCrE4w28e",
        "colab_type": "code",
        "outputId": "da503420-1b19-495e-f474-f02d0318b258",
        "colab": {
          "base_uri": "https://localhost:8080/",
          "height": 455
        }
      },
      "source": [
        "df_numed.groupby(by=['place_latitude', 'place_longitude']).agg({'id': 'min',\n",
        "                                                                'time_start': 'count'})#.min().sort_values('id', ascending=True)"
      ],
      "execution_count": 0,
      "outputs": [
        {
          "output_type": "execute_result",
          "data": {
            "text/html": [
              "<div>\n",
              "<style scoped>\n",
              "    .dataframe tbody tr th:only-of-type {\n",
              "        vertical-align: middle;\n",
              "    }\n",
              "\n",
              "    .dataframe tbody tr th {\n",
              "        vertical-align: top;\n",
              "    }\n",
              "\n",
              "    .dataframe thead th {\n",
              "        text-align: right;\n",
              "    }\n",
              "</style>\n",
              "<table border=\"1\" class=\"dataframe\">\n",
              "  <thead>\n",
              "    <tr style=\"text-align: right;\">\n",
              "      <th></th>\n",
              "      <th></th>\n",
              "      <th>id</th>\n",
              "      <th>time_start</th>\n",
              "    </tr>\n",
              "    <tr>\n",
              "      <th>place_latitude</th>\n",
              "      <th>place_longitude</th>\n",
              "      <th></th>\n",
              "      <th></th>\n",
              "    </tr>\n",
              "  </thead>\n",
              "  <tbody>\n",
              "    <tr>\n",
              "      <th>27.002889</th>\n",
              "      <th>115.390675</th>\n",
              "      <td>1005</td>\n",
              "      <td>12</td>\n",
              "    </tr>\n",
              "    <tr>\n",
              "      <th>27.004426</th>\n",
              "      <th>114.508818</th>\n",
              "      <td>5938</td>\n",
              "      <td>9</td>\n",
              "    </tr>\n",
              "    <tr>\n",
              "      <th>27.004441</th>\n",
              "      <th>114.482340</th>\n",
              "      <td>7057</td>\n",
              "      <td>17</td>\n",
              "    </tr>\n",
              "    <tr>\n",
              "      <th>27.004443</th>\n",
              "      <th>115.305837</th>\n",
              "      <td>6085</td>\n",
              "      <td>8</td>\n",
              "    </tr>\n",
              "    <tr>\n",
              "      <th>27.005625</th>\n",
              "      <th>114.930465</th>\n",
              "      <td>5610</td>\n",
              "      <td>16</td>\n",
              "    </tr>\n",
              "    <tr>\n",
              "      <th>...</th>\n",
              "      <th>...</th>\n",
              "      <td>...</td>\n",
              "      <td>...</td>\n",
              "    </tr>\n",
              "    <tr>\n",
              "      <th>31.956940</th>\n",
              "      <th>114.472610</th>\n",
              "      <td>3414</td>\n",
              "      <td>14</td>\n",
              "    </tr>\n",
              "    <tr>\n",
              "      <th>31.960560</th>\n",
              "      <th>112.951390</th>\n",
              "      <td>13669</td>\n",
              "      <td>7</td>\n",
              "    </tr>\n",
              "    <tr>\n",
              "      <th>31.964470</th>\n",
              "      <th>111.010000</th>\n",
              "      <td>1807</td>\n",
              "      <td>36</td>\n",
              "    </tr>\n",
              "    <tr>\n",
              "      <th>31.965556</th>\n",
              "      <th>113.599722</th>\n",
              "      <td>3369</td>\n",
              "      <td>15</td>\n",
              "    </tr>\n",
              "    <tr>\n",
              "      <th>31.977074</th>\n",
              "      <th>115.393131</th>\n",
              "      <td>35</td>\n",
              "      <td>3</td>\n",
              "    </tr>\n",
              "  </tbody>\n",
              "</table>\n",
              "<p>8009 rows × 2 columns</p>\n",
              "</div>"
            ],
            "text/plain": [
              "                                   id  time_start\n",
              "place_latitude place_longitude                   \n",
              "27.002889      115.390675        1005          12\n",
              "27.004426      114.508818        5938           9\n",
              "27.004441      114.482340        7057          17\n",
              "27.004443      115.305837        6085           8\n",
              "27.005625      114.930465        5610          16\n",
              "...                               ...         ...\n",
              "31.956940      114.472610        3414          14\n",
              "31.960560      112.951390       13669           7\n",
              "31.964470      111.010000        1807          36\n",
              "31.965556      113.599722        3369          15\n",
              "31.977074      115.393131          35           3\n",
              "\n",
              "[8009 rows x 2 columns]"
            ]
          },
          "metadata": {
            "tags": []
          },
          "execution_count": 195
        }
      ]
    },
    {
      "cell_type": "code",
      "metadata": {
        "id": "O-11XTJIxFYe",
        "colab_type": "code",
        "colab": {}
      },
      "source": [
        "df_l = train_df_mod.copy()"
      ],
      "execution_count": 0,
      "outputs": []
    },
    {
      "cell_type": "code",
      "metadata": {
        "id": "-JzgQlHuxHAi",
        "colab_type": "code",
        "outputId": "83e82274-0e32-4748-94f6-a97d440f5ceb",
        "colab": {
          "base_uri": "https://localhost:8080/",
          "height": 341
        }
      },
      "source": [
        "#Вычисление время отключения минуты\n",
        "df_l['t_s'] = pd.to_datetime(df_l.time_start)\n",
        "df_l['t_e'] = pd.to_datetime(df_l.time_end)\n",
        "df_l['service_time'] = df_l.t_e - df_l.t_s\n",
        "df_l['ans'] = df_l['service_time'].apply(lambda time: time.total_seconds() / 60)"
      ],
      "execution_count": 0,
      "outputs": [
        {
          "output_type": "error",
          "ename": "AttributeError",
          "evalue": "ignored",
          "traceback": [
            "\u001b[0;31m---------------------------------------------------------------------------\u001b[0m",
            "\u001b[0;31mAttributeError\u001b[0m                            Traceback (most recent call last)",
            "\u001b[0;32m<ipython-input-197-97c8c7879b4d>\u001b[0m in \u001b[0;36m<module>\u001b[0;34m()\u001b[0m\n\u001b[1;32m      1\u001b[0m \u001b[0mdf_l\u001b[0m\u001b[0;34m[\u001b[0m\u001b[0;34m't_s'\u001b[0m\u001b[0;34m]\u001b[0m \u001b[0;34m=\u001b[0m \u001b[0mpd\u001b[0m\u001b[0;34m.\u001b[0m\u001b[0mto_datetime\u001b[0m\u001b[0;34m(\u001b[0m\u001b[0mdf_l\u001b[0m\u001b[0;34m.\u001b[0m\u001b[0mtime_start\u001b[0m\u001b[0;34m)\u001b[0m\u001b[0;34m\u001b[0m\u001b[0;34m\u001b[0m\u001b[0m\n\u001b[0;32m----> 2\u001b[0;31m \u001b[0mdf_l\u001b[0m\u001b[0;34m[\u001b[0m\u001b[0;34m't_e'\u001b[0m\u001b[0;34m]\u001b[0m \u001b[0;34m=\u001b[0m \u001b[0mpd\u001b[0m\u001b[0;34m.\u001b[0m\u001b[0mto_datetime\u001b[0m\u001b[0;34m(\u001b[0m\u001b[0mdf_l\u001b[0m\u001b[0;34m.\u001b[0m\u001b[0mtime_end\u001b[0m\u001b[0;34m)\u001b[0m\u001b[0;34m\u001b[0m\u001b[0;34m\u001b[0m\u001b[0m\n\u001b[0m\u001b[1;32m      3\u001b[0m \u001b[0mdf_l\u001b[0m\u001b[0;34m[\u001b[0m\u001b[0;34m'service_time'\u001b[0m\u001b[0;34m]\u001b[0m \u001b[0;34m=\u001b[0m \u001b[0mdf_l\u001b[0m\u001b[0;34m.\u001b[0m\u001b[0mt_e\u001b[0m \u001b[0;34m-\u001b[0m \u001b[0mdf_l\u001b[0m\u001b[0;34m.\u001b[0m\u001b[0mt_s\u001b[0m\u001b[0;34m\u001b[0m\u001b[0;34m\u001b[0m\u001b[0m\n\u001b[1;32m      4\u001b[0m \u001b[0mdf_l\u001b[0m\u001b[0;34m[\u001b[0m\u001b[0;34m'ans'\u001b[0m\u001b[0;34m]\u001b[0m \u001b[0;34m=\u001b[0m \u001b[0mdf_l\u001b[0m\u001b[0;34m[\u001b[0m\u001b[0;34m'service_time'\u001b[0m\u001b[0;34m]\u001b[0m\u001b[0;34m.\u001b[0m\u001b[0mapply\u001b[0m\u001b[0;34m(\u001b[0m\u001b[0;32mlambda\u001b[0m \u001b[0mtime\u001b[0m\u001b[0;34m:\u001b[0m \u001b[0mtime\u001b[0m\u001b[0;34m.\u001b[0m\u001b[0mtotal_seconds\u001b[0m\u001b[0;34m(\u001b[0m\u001b[0;34m)\u001b[0m \u001b[0;34m/\u001b[0m \u001b[0;36m60\u001b[0m\u001b[0;34m)\u001b[0m\u001b[0;34m\u001b[0m\u001b[0;34m\u001b[0m\u001b[0m\n",
            "\u001b[0;32m/usr/local/lib/python3.6/dist-packages/pandas/core/generic.py\u001b[0m in \u001b[0;36m__getattr__\u001b[0;34m(self, name)\u001b[0m\n\u001b[1;32m   5177\u001b[0m             \u001b[0;32mif\u001b[0m \u001b[0mself\u001b[0m\u001b[0;34m.\u001b[0m\u001b[0m_info_axis\u001b[0m\u001b[0;34m.\u001b[0m\u001b[0m_can_hold_identifiers_and_holds_name\u001b[0m\u001b[0;34m(\u001b[0m\u001b[0mname\u001b[0m\u001b[0;34m)\u001b[0m\u001b[0;34m:\u001b[0m\u001b[0;34m\u001b[0m\u001b[0;34m\u001b[0m\u001b[0m\n\u001b[1;32m   5178\u001b[0m                 \u001b[0;32mreturn\u001b[0m \u001b[0mself\u001b[0m\u001b[0;34m[\u001b[0m\u001b[0mname\u001b[0m\u001b[0;34m]\u001b[0m\u001b[0;34m\u001b[0m\u001b[0;34m\u001b[0m\u001b[0m\n\u001b[0;32m-> 5179\u001b[0;31m             \u001b[0;32mreturn\u001b[0m \u001b[0mobject\u001b[0m\u001b[0;34m.\u001b[0m\u001b[0m__getattribute__\u001b[0m\u001b[0;34m(\u001b[0m\u001b[0mself\u001b[0m\u001b[0;34m,\u001b[0m \u001b[0mname\u001b[0m\u001b[0;34m)\u001b[0m\u001b[0;34m\u001b[0m\u001b[0;34m\u001b[0m\u001b[0m\n\u001b[0m\u001b[1;32m   5180\u001b[0m \u001b[0;34m\u001b[0m\u001b[0m\n\u001b[1;32m   5181\u001b[0m     \u001b[0;32mdef\u001b[0m \u001b[0m__setattr__\u001b[0m\u001b[0;34m(\u001b[0m\u001b[0mself\u001b[0m\u001b[0;34m,\u001b[0m \u001b[0mname\u001b[0m\u001b[0;34m,\u001b[0m \u001b[0mvalue\u001b[0m\u001b[0;34m)\u001b[0m\u001b[0;34m:\u001b[0m\u001b[0;34m\u001b[0m\u001b[0;34m\u001b[0m\u001b[0m\n",
            "\u001b[0;31mAttributeError\u001b[0m: 'DataFrame' object has no attribute 'time_end'"
          ]
        }
      ]
    },
    {
      "cell_type": "code",
      "metadata": {
        "id": "_Mnfx0zhxIkG",
        "colab_type": "code",
        "colab": {}
      },
      "source": [
        "#Обрезаем стартовое время до минут\n",
        "df_l['time_start'] = df_l['time_start'].apply(lambda x: x.floor('MIN'))"
      ],
      "execution_count": 0,
      "outputs": []
    },
    {
      "cell_type": "code",
      "metadata": {
        "id": "xaZmqVzixTmn",
        "colab_type": "code",
        "colab": {}
      },
      "source": [
        "#Расчет количества поломок произошедших в одно время\n",
        "new = df_l['time_start'].value_counts()\n",
        "new = new.to_frame()\n",
        "new.rename(columns={'time_start':'count'}, inplace=True)\n",
        "new['time_start'] = new.index\n",
        "df_l = pd.merge(df_l, new, on='time_start', how='left')"
      ],
      "execution_count": 0,
      "outputs": []
    },
    {
      "cell_type": "code",
      "metadata": {
        "id": "CUsCAwvcxUh9",
        "colab_type": "code",
        "colab": {}
      },
      "source": [
        "#Создание колонки id отвечающей за события прозошедшие в одно и то же время\n",
        "new = df_l[['time_start','count']].groupby(by='time_start').count().sort_values('count', ascending=False)\n",
        "new['id'] = [i for i in range(new.shape[0])]\n",
        "df_l = pd.merge(df_l, new[['id']], how='left', on='time_start').sort_values('count', ascending=False)"
      ],
      "execution_count": 0,
      "outputs": []
    },
    {
      "cell_type": "code",
      "metadata": {
        "id": "-nahJmftxWW4",
        "colab_type": "code",
        "colab": {}
      },
      "source": [
        "#Удаляем мусор\n",
        "df_l.drop(['time_start', 'time_end', 'service_time'], inplace=True, axis=1)\n",
        "df_l.rename(columns={'t_s': 'time_start',\n",
        "                     't_e' : 'time_end'}, inplace=True)"
      ],
      "execution_count": 0,
      "outputs": []
    },
    {
      "cell_type": "markdown",
      "metadata": {
        "id": "07ZyNtA7x656",
        "colab_type": "text"
      },
      "source": [
        "Тут очень важный момент, что до группировки по координатам мы не связываем сущности событие и вышка т.е. разные события для одной вышки будут иметь разный id"
      ]
    },
    {
      "cell_type": "code",
      "metadata": {
        "id": "lqRsRsPax4F5",
        "colab_type": "code",
        "colab": {}
      },
      "source": [
        "#Группируем по координатам\n",
        "temp = df_l.groupby(by=['place_latitude', 'place_longitude'], as_index=False).agg({'id': 'min',\n",
        "                                                            'time_start': 'count',\n",
        "                                                            'ans': 'mean'})#.min().sort_values('id', ascending=True)"
      ],
      "execution_count": 0,
      "outputs": []
    },
    {
      "cell_type": "code",
      "metadata": {
        "id": "ugIerxs7x-Lw",
        "colab_type": "code",
        "colab": {}
      },
      "source": [
        "group_id_column = train_df_mod.merge(temp, how='left', on=['place_latitude', 'place_longitude'])['id']"
      ],
      "execution_count": 0,
      "outputs": []
    },
    {
      "cell_type": "code",
      "metadata": {
        "id": "aBVFIJSs2QhH",
        "colab_type": "code",
        "colab": {}
      },
      "source": [
        "group_id_column.isna().sum()"
      ],
      "execution_count": 0,
      "outputs": []
    },
    {
      "cell_type": "code",
      "metadata": {
        "id": "jje-jLhz2chN",
        "colab_type": "code",
        "colab": {}
      },
      "source": [
        "# Очищаем временные переменные\n",
        "del df_l, df_loc, df_loc_groups, df_numed"
      ],
      "execution_count": 0,
      "outputs": []
    },
    {
      "cell_type": "markdown",
      "metadata": {
        "id": "6TT3DRYTzNZz",
        "colab_type": "text"
      },
      "source": [
        "### Добавление фичи с количеством поломок в этот день"
      ]
    },
    {
      "cell_type": "code",
      "metadata": {
        "id": "bnnCzuua2955",
        "colab_type": "code",
        "colab": {}
      },
      "source": [
        "# Создадим ячейку с округлением до дня\n",
        "train_df_mod['time_start_day'] = train_df_mod['time_start']\\\n",
        "                        .apply(lambda x: x.normalize())"
      ],
      "execution_count": 0,
      "outputs": []
    },
    {
      "cell_type": "code",
      "metadata": {
        "id": "0SxETgqp3MW3",
        "colab_type": "code",
        "colab": {}
      },
      "source": [
        "train_df_mod.head(2)"
      ],
      "execution_count": 0,
      "outputs": []
    },
    {
      "cell_type": "code",
      "metadata": {
        "id": "NiDmUP77zU1E",
        "colab_type": "code",
        "colab": {}
      },
      "source": [
        "# Создадим датафрэйм для генерации фичи, группировка по дню\n",
        "df_mod = train_df_mod.loc[:,[\n",
        "          'season',\n",
        "          'service_time_minutes',\n",
        "          'time_start_day']]\\\n",
        "  .groupby('time_start_day', as_index=False)\\\n",
        "  .agg({\n",
        "        'service_time_minutes': 'mean',\n",
        "        'season': ['count']\n",
        "})\n",
        "df_mod.columns = [\"_\".join(x) if x[1] else x[0] for x in df_mod.columns.ravel()]"
      ],
      "execution_count": 0,
      "outputs": []
    },
    {
      "cell_type": "code",
      "metadata": {
        "id": "Wq2W86kYzUuV",
        "colab_type": "code",
        "colab": {}
      },
      "source": [
        "df_mod.head(5)"
      ],
      "execution_count": 0,
      "outputs": []
    },
    {
      "cell_type": "code",
      "metadata": {
        "id": "xw5wtb8H4PGa",
        "colab_type": "code",
        "colab": {}
      },
      "source": [
        "train_df_mod = train_df_mod.merge(df_mod.loc[:,['time_start_day', 'season_count']],\n",
        "                                  how='left', on='time_start_day')\\\n",
        "                .rename({'season_count': 'fails_count'}, axis=1)\\\n",
        "                .drop('time_start_day', axis=1)"
      ],
      "execution_count": 0,
      "outputs": []
    },
    {
      "cell_type": "code",
      "metadata": {
        "id": "juTwkfhc4O-5",
        "colab_type": "code",
        "colab": {}
      },
      "source": [
        "# Построим график распределения поломок\n",
        "plt.figure(figsize=(14,14))\n",
        "scatter = plt.scatter(x=df_mod['time_start_day'],\n",
        "               y=df_mod['season_count'],\n",
        "            s=36,\n",
        "            c=df_mod['service_time_minutes_mean'])\n",
        "legend1 = plt.legend(*scatter.legend_elements(),\n",
        "                    loc=\"upper right\", title=\"mean service time\")\n",
        "plt.title('Количество поломок по дням')\n",
        "plt.show()"
      ],
      "execution_count": 0,
      "outputs": []
    },
    {
      "cell_type": "code",
      "metadata": {
        "id": "kcMGDX_H491W",
        "colab_type": "code",
        "colab": {}
      },
      "source": [
        "# Удалим ненужный более dataframe\n",
        "del df_mod"
      ],
      "execution_count": 0,
      "outputs": []
    },
    {
      "cell_type": "markdown",
      "metadata": {
        "id": "ePlHfwJpzgf6",
        "colab_type": "text"
      },
      "source": [
        "## Преобразование переменных\n"
      ]
    },
    {
      "cell_type": "markdown",
      "metadata": {
        "id": "gIDz4zK-zn66",
        "colab_type": "text"
      },
      "source": [
        "### Перевод времени в минуты"
      ]
    },
    {
      "cell_type": "code",
      "metadata": {
        "id": "7bFjBm9Fzmx7",
        "colab_type": "code",
        "colab": {}
      },
      "source": [
        "train_df_mod['time_start_minutes'] = \\\n",
        "      (train_df_mod['time_start'] - pd.to_datetime('2016'))\\\n",
        "        .apply(lambda x: x.total_seconds() / 60)"
      ],
      "execution_count": 0,
      "outputs": []
    },
    {
      "cell_type": "code",
      "metadata": {
        "id": "WZaA-3tO5kmw",
        "colab_type": "code",
        "colab": {}
      },
      "source": [
        "train_df_mod.head()"
      ],
      "execution_count": 0,
      "outputs": []
    },
    {
      "cell_type": "markdown",
      "metadata": {
        "id": "jw_kskPV0AtJ",
        "colab_type": "text"
      },
      "source": [
        "## Последние штрихи предобработки для нейросети"
      ]
    },
    {
      "cell_type": "code",
      "metadata": {
        "id": "OqsIisOt0AJ9",
        "colab_type": "code",
        "colab": {}
      },
      "source": [
        "final_df = train_df_mod.drop([\n",
        "#     'time_delta',\n",
        "#     'coord_id',\n",
        "#     'time_start',\n",
        "    ],\n",
        "    axis=1)\\\n",
        "    .reindex(['service_time_minutes',\n",
        "              'time_start',\n",
        "              'time_start_minutes',\n",
        "              *train_df_mod.columns[1:3],\n",
        "              *train_df_mod.columns[4:9],\n",
        "              'fails_count',\n",
        "              ], axis=1)\n",
        "final_df = final_df.sort_values('time_start')"
      ],
      "execution_count": 0,
      "outputs": []
    },
    {
      "cell_type": "markdown",
      "metadata": {
        "id": "BALUKQXdJH5C",
        "colab_type": "text"
      },
      "source": [
        "### Центрирование координат"
      ]
    },
    {
      "cell_type": "code",
      "metadata": {
        "id": "faYKietfJOJu",
        "colab_type": "code",
        "colab": {}
      },
      "source": [
        "normalized_columns = ['place_latitude', 'place_longitude']"
      ],
      "execution_count": 0,
      "outputs": []
    },
    {
      "cell_type": "code",
      "metadata": {
        "id": "gVkkluk9JPsu",
        "colab_type": "code",
        "colab": {}
      },
      "source": [
        "for column in normalized_columns:\n",
        "    # Normalization 1\n",
        "#     final_df[column] = (final_df[column] - final_df[column].mean()) /\n",
        "#                        final_df[column].std()\n",
        "    # Normalization 2\n",
        "    final_df[column] = final_df[column] - (final_df[column].max() + final_df[column].min()) / 2\n",
        "#     final_df[column] = final_df[column] / final_df[column].max()"
      ],
      "execution_count": 0,
      "outputs": []
    },
    {
      "cell_type": "markdown",
      "metadata": {
        "id": "bk0ao8rIJbv1",
        "colab_type": "text"
      },
      "source": [
        "### Добавление group_id"
      ]
    },
    {
      "cell_type": "code",
      "metadata": {
        "id": "hR2x9_1K0jCa",
        "colab_type": "code",
        "colab": {}
      },
      "source": [
        "# Добавим group_id\n",
        "final_df = final_df.merge(group_id_column, left_index=True, right_index=True)"
      ],
      "execution_count": 0,
      "outputs": []
    },
    {
      "cell_type": "code",
      "metadata": {
        "id": "x4CI7DM3Klvd",
        "colab_type": "code",
        "colab": {}
      },
      "source": [
        "final_df.rename({'id': 'group_id'}, axis=1, inplace=True)"
      ],
      "execution_count": 0,
      "outputs": []
    },
    {
      "cell_type": "markdown",
      "metadata": {
        "id": "aolYo2l-2To2",
        "colab_type": "text"
      },
      "source": [
        "# Предобработка заканчивается тут\n",
        "Результат в final_df"
      ]
    },
    {
      "cell_type": "code",
      "metadata": {
        "id": "W3vL44fd0w69",
        "colab_type": "code",
        "colab": {}
      },
      "source": [
        "# Финальный датасет\n",
        "final_df.head()"
      ],
      "execution_count": 0,
      "outputs": []
    },
    {
      "cell_type": "code",
      "metadata": {
        "id": "b1bUU0g96cfG",
        "colab_type": "code",
        "colab": {}
      },
      "source": [
        "# Проверка не потеряли ли мы данные, должно быть 75094 записи\n",
        "final_df.shape"
      ],
      "execution_count": 0,
      "outputs": []
    },
    {
      "cell_type": "code",
      "metadata": {
        "id": "CBa_sqJqISTY",
        "colab_type": "code",
        "colab": {}
      },
      "source": [
        "# Запишем финальный датасет для обучающе выборки в data_train\n",
        "data_train = final_df"
      ],
      "execution_count": 0,
      "outputs": []
    },
    {
      "cell_type": "markdown",
      "metadata": {
        "id": "UCJsYuFGH71_",
        "colab_type": "text"
      },
      "source": [
        "# Обработка тестовых данных\n",
        "Вся предобработка тестовых данных аналогична обрпботке обучающих данных\n"
      ]
    },
    {
      "cell_type": "code",
      "metadata": {
        "id": "9Xmxuh3X-k7j",
        "colab_type": "code",
        "colab": {}
      },
      "source": [
        "data_test = pd.read_csv(path + '/test.csv', sep=';')"
      ],
      "execution_count": 0,
      "outputs": []
    },
    {
      "cell_type": "code",
      "metadata": {
        "id": "kzMrp3xkIl54",
        "colab_type": "code",
        "colab": {}
      },
      "source": [
        "data_test['time_start'] = pd.to_datetime(data_test['time_start'])"
      ],
      "execution_count": 0,
      "outputs": []
    },
    {
      "cell_type": "code",
      "metadata": {
        "id": "yx-kWo8RIlxv",
        "colab_type": "code",
        "colab": {}
      },
      "source": [
        "add_time_features(data_test)"
      ],
      "execution_count": 0,
      "outputs": []
    },
    {
      "cell_type": "code",
      "metadata": {
        "id": "SdOc1lmxIlo_",
        "colab_type": "code",
        "colab": {}
      },
      "source": [
        "normalized_columns = ['place_latitude', 'place_longitude']\n",
        "for column in normalized_columns:\n",
        "    # Normalization 1\n",
        "#     final_df[column] = (final_df[column] - final_df[column].mean()) /\n",
        "#                        final_df[column].std()\n",
        "    # Normalization 2\n",
        "    data_test[column] = data_test[column] - (train_df_mod[column].max() + train_df_mod[column].min()) / 2\n",
        "#     final_df[column] = final_df[column] / final_df[column].max()"
      ],
      "execution_count": 0,
      "outputs": []
    },
    {
      "cell_type": "markdown",
      "metadata": {
        "id": "bqXSWvbWJsJT",
        "colab_type": "text"
      },
      "source": [
        "График новых и старых данных\n"
      ]
    },
    {
      "cell_type": "code",
      "metadata": {
        "id": "LGvXlDAOJnMI",
        "colab_type": "code",
        "colab": {}
      },
      "source": [
        "plt.figure(figsize=(15, 15))\n",
        "sns.scatterplot(data=data_train, y='place_latitude',\n",
        "                x='place_longitude')#, size='service_time_minutes_count',\n",
        "                # hue='service_time_minutes_mean',\n",
        "                # palette=my_palette)\n",
        "                # palette=sns.dark_palette(\"seagreen\", reverse=False, as_cmap=True))\n",
        "sns.scatterplot(data=data_test, y='place_latitude',\n",
        "                x='place_longitude',)\n",
        "plt.title('Расположение базовых станций')\n",
        "plt.show()"
      ],
      "execution_count": 0,
      "outputs": []
    },
    {
      "cell_type": "code",
      "metadata": {
        "id": "uBoJp_DrKL_o",
        "colab_type": "code",
        "colab": {}
      },
      "source": [
        "data_test['coord'] = data_test.index\n",
        "data_test['coord'] = data_test['coord']\\\n",
        "                      .apply(lambda x:\n",
        "                             (data_test.place_longitude[x],\n",
        "                              data_test.place_latitude[x],))"
      ],
      "execution_count": 0,
      "outputs": []
    },
    {
      "cell_type": "code",
      "metadata": {
        "id": "RJJnWdKdKL4D",
        "colab_type": "code",
        "colab": {}
      },
      "source": [
        "data_test['coord_norm'] = data_test.index\n",
        "data_test['coord_norm'] = data_test['coord_norm']\\\n",
        "                      .apply(lambda x:\n",
        "                             (data_test.place_longitude[x],\n",
        "                              data_test.place_latitude[x],))"
      ],
      "execution_count": 0,
      "outputs": []
    },
    {
      "cell_type": "code",
      "metadata": {
        "id": "KbfYna_VKLt9",
        "colab_type": "code",
        "colab": {}
      },
      "source": [
        "data_test.head()"
      ],
      "execution_count": 0,
      "outputs": []
    },
    {
      "cell_type": "code",
      "metadata": {
        "id": "t35FV6UoKSNB",
        "colab_type": "code",
        "colab": {}
      },
      "source": [
        "# Temp dataframe for grouping and giving groups id to test data using distance\n",
        "temp_df = data_train.copy()"
      ],
      "execution_count": 0,
      "outputs": []
    },
    {
      "cell_type": "code",
      "metadata": {
        "id": "1ZAUOj4CKSHO",
        "colab_type": "code",
        "colab": {}
      },
      "source": [
        "data_test['group_id'] = data_train['group_id'].median()"
      ],
      "execution_count": 0,
      "outputs": []
    },
    {
      "cell_type": "code",
      "metadata": {
        "id": "YvcjhGbUKR_o",
        "colab_type": "code",
        "colab": {}
      },
      "source": [
        "k = 0\n",
        "# Long time cycle for mark all stations with their groups\n",
        "l = data_test.coord_norm.nunique()\n",
        "for test_coord in data_test.coord_norm.unique():\n",
        "  temp_df['temp'] = temp_df.index\n",
        "  temp_df['temp'] = temp_df['temp'].apply(lambda x:\n",
        "                                          ((temp_df['place_longitude'][x] - test_coord[0]) ** 2\n",
        "                                          +\n",
        "                                          (temp_df['place_latitude'][x] - test_coord[1] ** 2) ** 0.5))\n",
        "  temp_id = temp_df[temp_df.temp == temp_df.temp.min()].group_id.min()\n",
        "  data_test.group_id = data_test.group_id.mask(data_test['coord_norm'] == test_coord, temp_id)\n",
        "  # print(test_coord)\n",
        "  # print(data_test.group_id.unique(), temp_id)\n",
        "  print(f'{k}/{l}', end=', ')\n",
        "  # if k == 20: break\n",
        "  k += 1"
      ],
      "execution_count": 0,
      "outputs": []
    },
    {
      "cell_type": "code",
      "metadata": {
        "id": "5_CIqbvrKR3n",
        "colab_type": "code",
        "colab": {}
      },
      "source": [
        "del temp_df"
      ],
      "execution_count": 0,
      "outputs": []
    },
    {
      "cell_type": "code",
      "metadata": {
        "id": "5NYwPIImLWgt",
        "colab_type": "code",
        "colab": {}
      },
      "source": [
        "data_test.isna().sum()"
      ],
      "execution_count": 0,
      "outputs": []
    },
    {
      "cell_type": "code",
      "metadata": {
        "id": "1ORyMcxHLWYL",
        "colab_type": "code",
        "colab": {}
      },
      "source": [
        "# Replace NaNs for median\n",
        "data_test.group_id.fillna(data_train.group_id.median(), inplace=True)"
      ],
      "execution_count": 0,
      "outputs": []
    },
    {
      "cell_type": "code",
      "metadata": {
        "id": "JHc5Tk_ELce3",
        "colab_type": "code",
        "colab": {}
      },
      "source": [
        "data_test['time_start_day'] = data_test['time_start']\\\n",
        "                        .apply(lambda x: x.normalize())"
      ],
      "execution_count": 0,
      "outputs": []
    },
    {
      "cell_type": "code",
      "metadata": {
        "id": "bnYSjwadLdqT",
        "colab_type": "code",
        "colab": {}
      },
      "source": [
        "df_mod = data_test.loc[:,[\n",
        "          'season',\n",
        "          'service_time_minutes',\n",
        "          'time_start_day']]\\\n",
        "  .groupby('time_start_day', as_index=False)\\\n",
        "  .agg({\n",
        "        'service_time_minutes': 'mean',\n",
        "        'season': ['count']\n",
        "})\n",
        "df_mod.columns = [\"_\".join(x) if x[1] else x[0] for x in df_mod.columns.ravel()]"
      ],
      "execution_count": 0,
      "outputs": []
    },
    {
      "cell_type": "code",
      "metadata": {
        "id": "QoE9gph-Lfc1",
        "colab_type": "code",
        "colab": {}
      },
      "source": [
        "data_test = data_test.merge(df_mod.loc[:,['time_start_day', 'season_count']],\n",
        "         how='left', on='time_start_day')\\\n",
        "  .rename({'season_count': 'fails_count'}, axis=1)\\\n",
        "  .drop('time_start_day', axis=1)"
      ],
      "execution_count": 0,
      "outputs": []
    },
    {
      "cell_type": "code",
      "metadata": {
        "id": "hZ6XRWrLLitg",
        "colab_type": "code",
        "colab": {}
      },
      "source": [
        "data_test['time_start_minutes'] = \\\n",
        "          (data_test['time_start'] - pd.to_datetime('2016'))\\\n",
        "          .apply(lambda x: x.total_seconds() / 60)"
      ],
      "execution_count": 0,
      "outputs": []
    },
    {
      "cell_type": "code",
      "metadata": {
        "id": "GVS_3shYLkgN",
        "colab_type": "code",
        "colab": {}
      },
      "source": [
        "# Check for NaN\n",
        "data_test.isna().sum()"
      ],
      "execution_count": 0,
      "outputs": []
    },
    {
      "cell_type": "code",
      "metadata": {
        "id": "WLOdO23vbhbP",
        "colab_type": "code",
        "colab": {}
      },
      "source": [
        "data_test = data_test.reindex(data_train.columns, axis=1)\n",
        "data_test = data_test.sort_values('time_start_minutes')"
      ],
      "execution_count": 0,
      "outputs": []
    },
    {
      "cell_type": "code",
      "metadata": {
        "id": "DXsILz0eb11Y",
        "colab_type": "code",
        "colab": {}
      },
      "source": [
        "data_test.service_time_minutes.fillna(0, inplace=True)\n",
        "data_test.describe()"
      ],
      "execution_count": 0,
      "outputs": []
    },
    {
      "cell_type": "markdown",
      "metadata": {
        "id": "NuxaVL2Abl_m",
        "colab_type": "text"
      },
      "source": [
        "Cверим часы\n"
      ]
    },
    {
      "cell_type": "code",
      "metadata": {
        "id": "I2zk7ZQlblaG",
        "colab_type": "code",
        "colab": {}
      },
      "source": [
        "data_train.shape"
      ],
      "execution_count": 0,
      "outputs": []
    },
    {
      "cell_type": "code",
      "metadata": {
        "id": "RiC9FOsYbTI-",
        "colab_type": "code",
        "colab": {}
      },
      "source": [
        "data_test.shape"
      ],
      "execution_count": 0,
      "outputs": []
    },
    {
      "cell_type": "code",
      "metadata": {
        "id": "8LW5jNwZbuym",
        "colab_type": "code",
        "colab": {}
      },
      "source": [
        "# Check for NaN\n",
        "data_test.isna().sum()"
      ],
      "execution_count": 0,
      "outputs": []
    },
    {
      "cell_type": "markdown",
      "metadata": {
        "id": "gJiPb7vWIA8a",
        "colab_type": "text"
      },
      "source": [
        "# Модель и обучение\n",
        "\n"
      ]
    },
    {
      "cell_type": "code",
      "metadata": {
        "id": "uZ9a9LbBfCBO",
        "colab_type": "code",
        "colab": {}
      },
      "source": [
        "#!pip show keras\n",
        "#!pip show tensorflow\n",
        "%tensorflow_version 1.x\n",
        "#!pip install keras\n",
        "#!pip install tensorflow\n",
        "#!pip install tensorboardcolab\n",
        "\n",
        "\n",
        "import os\n",
        "from keras.layers import LSTM, Dense, Dropout, Flatten, SimpleRNN, GRU,\\\n",
        "      Conv1D, MaxPool1D, BatchNormalization, Conv2D, MaxPool2D\n",
        "from keras.models import Sequential\n",
        "from keras.activations import sigmoid, relu\n",
        "from datetime import datetime\n",
        "import numpy as np\n",
        "import pandas as pd\n",
        "from sklearn.cluster import KMeans, Birch, AffinityPropagation\n",
        "from keras.callbacks import ModelCheckpoint, TerminateOnNaN, EarlyStopping, ReduceLROnPlateau\n",
        "from keras import layers\n",
        "from keras.models import load_model\n",
        "from keras.losses import mean_absolute_percentage_error as mape\n",
        "from sklearn.metrics import mean_absolute_error\n",
        "from sklearn.model_selection import train_test_split\n",
        "from sklearn.utils import shuffle\n",
        "from sklearn.ensemble import *\n",
        "from sklearn.cluster import KMeans\n",
        "\n",
        "\n",
        "import pickle as cPickle"
      ],
      "execution_count": 0,
      "outputs": []
    },
    {
      "cell_type": "markdown",
      "metadata": {
        "id": "xCJGEOy8lgcx",
        "colab_type": "text"
      },
      "source": [
        "### Описание модели"
      ]
    },
    {
      "cell_type": "markdown",
      "metadata": {
        "id": "IBtkp_x0jXfT",
        "colab_type": "text"
      },
      "source": [
        "Рекуентная нейроеть - это класс нейронных сетей, которые хороши для моделирования последовательных данных. В нашем случае последовательные данные составляют сбои. Для этого нам пришлось сделать разбиение на кластеры и ввести новые параметры: количество последних поломок из одного кластера, шаг взятия поломки и количество экземпляров, смещенных на шаг.\n",
        "Данные по одному кластеру собирались в один длинный вектор и отправлялись на обучение.\n",
        "\n",
        "На последних этапах тестировались два типа модели: обычная рекурентная сеть и сверточно-рекурентная.\n",
        "Проверив несколько вариантов, мы пришли к выводу, что наилучший результат показывают модели с небольшим количеством скрытых слоёв. Более сложные модели не поддавались обучению.\n",
        "\n",
        "В итоге была выбрана сверточно-рекурентная модель, потому что она давала наименьшую ошибку на тестовой выборке, а именно 60%. В качестве тестовых данных выступали все сбои за январь.\n",
        "\n"
      ]
    },
    {
      "cell_type": "markdown",
      "metadata": {
        "id": "5RPmGi7Ikegz",
        "colab_type": "text"
      },
      "source": [
        "#### *Структура финальной нейросети:*\n",
        "```\n",
        "Layer (type)                 Output Shape              Param #   \n",
        "=================================================================\n",
        "conv1d_50 (Conv1D)           (None, 748, 16)           48        \n",
        "_________________________________________________________________\n",
        "max_pooling1d_48 (MaxPooling (None, 374, 16)           0         \n",
        "_________________________________________________________________\n",
        "lstm_29 (LSTM)               (None, 374, 8)            800       \n",
        "_________________________________________________________________\n",
        "flatten_31 (Flatten)         (None, 2992)              0         \n",
        "_________________________________________________________________\n",
        "dense_64 (Dense)             (None, 16)                47888     \n",
        "_________________________________________________________________\n",
        "dense_65 (Dense)             (None, 1)                 17        \n",
        "=================================================================\n",
        "Total params: 48,753\n",
        "Trainable params: 48,753\n",
        "Non-trainable params: 0\n",
        "```\n",
        "\n"
      ]
    },
    {
      "cell_type": "markdown",
      "metadata": {
        "id": "JtgxYCRNgKm4",
        "colab_type": "text"
      },
      "source": [
        "### Создания и обчение модели"
      ]
    },
    {
      "cell_type": "code",
      "metadata": {
        "id": "Qiuk5WUCgQir",
        "colab_type": "code",
        "colab": {}
      },
      "source": [
        "data = data_train\n",
        "data = data.sort_values(['time_start_minutes'])\n",
        "# data = data.drop(['Unnamed: 0'], axis=1)\n",
        "try:\n",
        "    data = data.drop(['day'], axis=1)\n",
        "except:\n",
        "    print('no day')\n",
        "\n",
        "def create_clusters(X, clust=100):\n",
        "  X_simplified = X.loc[:,['coord','place_latitude', 'place_longitude',]]\\\n",
        "                                .groupby('coord', as_index=False)\\\n",
        "                                .agg({\n",
        "                                            'place_latitude': 'mean',\n",
        "                                            'place_longitude': 'mean',\n",
        "                                      })\n",
        "  clustering_model = KMeans(n_clusters=clust, n_jobs=-1, random_state=4)\n",
        "  #clustering_model = Birch(n_clusters=clust)\n",
        "  id_column = clustering_model.fit_predict(X_simplified\\\n",
        "                                            .loc[:, ['place_latitude',\n",
        "                                                    'place_longitude']])\n",
        "  X_simplified['cluster_id'] = pd.Series(id_column)\n",
        "  X = X.merge(X_simplified.loc[:, ['coord', 'cluster_id']],\n",
        "                how='outer', on='coord')\n",
        "  X.drop(['coord'], axis=1)\n",
        "  with open('clustering_model.pkl', 'wb') as fid:\n",
        "    cPickle.dump(clustering_model, fid)    \n",
        "  return X\n",
        "\n",
        "def create_vec(data):\n",
        "  data = data.values\n",
        "  # print(data.shape)\n",
        "  res = []\n",
        "  for k in range(10000):\n",
        "    vec = []\n",
        "    for i in data:\n",
        "      if i[-1] == k:\n",
        "        vec.append(list(i[0:-1]))\n",
        "    if vec:\n",
        "      res.append(vec)\n",
        "    else:\n",
        "      print('max clusters:', k)\n",
        "      break\n",
        "  return res\n",
        "\n",
        "\n",
        "# print(data.columns)\n",
        "\n",
        "data = create_clusters(data, 50)\n",
        "data = data.drop(['coord'], axis=1)\n",
        "data = data.sort_values(['time_start_minutes'])\n",
        "\n",
        "print(data.columns)\n",
        "vec = create_vec(data)\n",
        "\n",
        "_ = np.inf\n",
        "for i in vec:\n",
        "  if len(i) < _:\n",
        "    _ = len(i)\n",
        "print('Max features + batch + step:', _)"
      ],
      "execution_count": 0,
      "outputs": []
    },
    {
      "cell_type": "code",
      "metadata": {
        "id": "2kHCYLEogtHB",
        "colab_type": "code",
        "colab": {}
      },
      "source": [
        "def preapare_data_fot_training(vec, features=100, batch=30, step=1):\n",
        "  X = []\n",
        "  Y = []\n",
        "  for ex in vec:\n",
        "    count = 0\n",
        "    start = 1\n",
        "    while count < batch:\n",
        "      tmp = []\n",
        "      tmp += ex[-start][1:]\n",
        "      Y.append(ex[-start][0])\n",
        "      for n in range(start + 1, start + features):\n",
        "        # print(n)\n",
        "        tmp += ex[-n]\n",
        "      X.append(np.asarray(tmp))\n",
        "      start += step\n",
        "      count += 1\n",
        "      # print(len(tmp))\n",
        "  X = np.asarray(X)\n",
        "  print(X.shape)\n",
        "  X = X.reshape(len(X), X.shape[1], 1)\n",
        "  Y = np.asarray(Y)\n",
        "  Y = Y.reshape(-1, 1)\n",
        "  print(X.shape)\n",
        "  print(Y.shape)\n",
        "  X, x, Y, y = train_test_split(X, Y, random_state=10, test_size=0.2, shuffle=True)\n",
        "  print(X.shape)\n",
        "  print(Y.shape)\n",
        "  return X, x, Y, y\n",
        "\n",
        "\n",
        "# Тут меняюется количество последних поломок, количество экземпляров со сдвигом на шаг и сам размер шага. Набираются поломки с конца.\n",
        "\n",
        "X, x, Y, y = preapare_data_fot_training(vec, features=75, batch=50, step=3)"
      ],
      "execution_count": 0,
      "outputs": []
    },
    {
      "cell_type": "code",
      "metadata": {
        "id": "JEsgjfXNgzCv",
        "colab_type": "code",
        "colab": {}
      },
      "source": [
        "model = Sequential()\n",
        "model.add(Conv1D(16,\n",
        "            input_shape=(X.shape[1], X.shape[2]),\n",
        "            kernel_size=2))\n",
        "model.add(MaxPool1D(pool_size=2))\n",
        "model.add(LSTM(8, return_sequences=True))\n",
        "model.add(Flatten())\n",
        "model.add(Dense(16, activation='relu'))\n",
        "model.add(Dense(1, activation='relu'))\n",
        "model.summary()\n",
        "\n",
        "model.compile(loss=mape, optimizer='adam')\n",
        "model.fit(X,\n",
        "      Y,\n",
        "      epochs=10,\n",
        "      batch_size=128,\n",
        "      validation_data=([x, y]))\n",
        "model.save('model')"
      ],
      "execution_count": 0,
      "outputs": []
    },
    {
      "cell_type": "markdown",
      "metadata": {
        "id": "XryuEBjSgEBY",
        "colab_type": "text"
      },
      "source": [
        "### Предсказание на обученной модели"
      ]
    },
    {
      "cell_type": "code",
      "metadata": {
        "id": "zJI7pd02fEht",
        "colab_type": "code",
        "colab": {}
      },
      "source": [
        "path_to_model_and_pkl = './'"
      ],
      "execution_count": 0,
      "outputs": []
    },
    {
      "cell_type": "code",
      "metadata": {
        "id": "pdzbS1ttfG_4",
        "colab_type": "code",
        "colab": {}
      },
      "source": [
        "def load_data(path='train.csv'):\n",
        "  data = pd.read_csv(path, comment='#')\n",
        "  data = data.sort_values(['time_start_minutes'])\n",
        "  data = data.drop(['Unnamed: 0'], axis=1)\n",
        "  return data\n",
        "\n",
        "def sort_time(X, x):\n",
        "  return X.sort_values(['time_start_minutes'], ascending=False), x.sort_values(['time_start_minutes'], ascending=False)\n",
        "\n",
        "def drop_coord(X, x):\n",
        "  try:\n",
        "    return X.drop(['coord', 'day'], axis=1), x.drop(['coord'], axis=1)\n",
        "  except:\n",
        "    return X.drop(['coord'], axis=1), x.drop(['coord'], axis=1)\n",
        "\n",
        "def create_clusters(X, x, path='clustering_model.pkl'):\n",
        "  X_simplified = X.loc[:,['coord','place_latitude', 'place_longitude',]]\\\n",
        "                                .groupby('coord', as_index=False)\\\n",
        "                                .agg({'place_latitude': 'mean',\n",
        "                                      'place_longitude': 'mean',})\n",
        "  # load model\n",
        "  with open(path, 'rb') as fid:\n",
        "    clustering_model = cPickle.load(fid)\n",
        "\n",
        "  id_column = clustering_model.fit_predict(X_simplified\\\n",
        "                                            .loc[:, ['place_latitude',\n",
        "                                                    'place_longitude']])\n",
        "  X_simplified['cluster_id'] = pd.Series(id_column)\n",
        "  X = X.merge(X_simplified.loc[:, ['coord', 'cluster_id']],\n",
        "                how='outer', on='coord')\n",
        "  X.drop(['coord'], axis=1)\n",
        "  x['cluster_id'] = clustering_model.predict(x.loc[:, ['place_latitude',\n",
        "                                                    'place_longitude']])\n",
        "  return X, x\n",
        "\n",
        "X = data_train\n",
        "x = data_test\n",
        "X, x = create_clusters(X, x, path_to_model_and_pkl + 'clustering_model.pkl')\n",
        "X, x = drop_coord(X, x)\n",
        "X, x = sort_time(X, x)"
      ],
      "execution_count": 0,
      "outputs": []
    },
    {
      "cell_type": "code",
      "metadata": {
        "id": "_OLopEoMfTpi",
        "colab_type": "code",
        "colab": {}
      },
      "source": [
        "def create_vec(data):\n",
        "  data = data.values\n",
        "  # print(data.shape)\n",
        "  res = []\n",
        "  for k in range(10000):\n",
        "    vec = []\n",
        "    for i in data:\n",
        "      if i[-1] == k:\n",
        "        vec.append(list(i[0:-1]))\n",
        "    if vec:\n",
        "      res.append(vec)\n",
        "    else:\n",
        "      print('max clusters:', k)\n",
        "      break\n",
        "  return res\n",
        "\n",
        "\n",
        "X_vec = create_vec(X)\n",
        "x_vec = create_vec(x)\n",
        "\n",
        "_ = np.inf\n",
        "for i in X_vec:\n",
        "  if len(i) < _:\n",
        "    _ = len(i)\n",
        "print('Max features:', _)\n",
        "\n",
        "\n",
        "def create_data(features=50, step=1):\n",
        "  def training(X_vec, x_vec):\n",
        "    global pos_X\n",
        "    pos_X = []\n",
        "    for i in range(len(X_vec)):\n",
        "      pos_X.append(len(x_vec[i]))\n",
        "      for k in X_vec[i]:\n",
        "        x_vec[i].append(k)\n",
        "    return x_vec\n",
        "  \n",
        "  print(len(X_vec[0]))\n",
        "  print(len(x_vec[0]))\n",
        "  res = training(X_vec, x_vec)\n",
        "  print(len(res[0]))\n",
        "  y = []\n",
        "  pred = []\n",
        "  model = load_model(path_to_model_and_pkl + 'model')\n",
        "  for k in range(len(pos_X)):\n",
        "    pos = pos_X[k] - 1\n",
        "    arr = []\n",
        "    while pos >= 0:\n",
        "      tmp = []\n",
        "      tmp += res[k][pos][1:]\n",
        "      y.append(res[k][pos][0])\n",
        "      # pos_ - последующте позиции для набора вектора. Тут правильно\n",
        "      pos_ = pos + step\n",
        "      count = 0\n",
        "      while count < features - 1:\n",
        "        tmp += res[k][pos_]\n",
        "        pos_ += step\n",
        "        count += 1\n",
        "      # Закончили набирать вектор.\n",
        "      # Щелкнули на предыдущую позицию.\n",
        "      pos -= 1\n",
        "      # Добавили в массив\n",
        "      arr.append(np.asarray(tmp))\n",
        "    arr = np.asarray(arr)\n",
        "    pred += list(model.predict(arr.reshape(len(arr), arr.shape[1], 1)).reshape(1, -1)[0])\n",
        "  return y, pred\n",
        "\n",
        "\n",
        "\n",
        "features = 75\n",
        "\n",
        "\n",
        "y, pred = create_data(features=features, step=2)\n",
        "\n",
        "\n",
        "\n",
        "def _mape_(y_true, y_pred): \n",
        "    return np.mean(np.abs((y_true - y_pred) / y_true)) * 100\n",
        "\n",
        "print(_mape_(np.asarray(y), np.asarray(pred)))"
      ],
      "execution_count": 0,
      "outputs": []
    },
    {
      "cell_type": "code",
      "metadata": {
        "id": "bB8DaPlLfZYR",
        "colab_type": "code",
        "colab": {}
      },
      "source": [
        "x = x.sort_values(['cluster_id', 'time_start_minutes'])\n",
        "pred = np.asarray(pred)\n",
        "pred.reshape(-1, 1)\n",
        "\n",
        "pr = pd.DataFrame(data={'predict': pred})\n",
        "x['predict'] = pr['predict']\n",
        "x"
      ],
      "execution_count": 0,
      "outputs": []
    },
    {
      "cell_type": "code",
      "metadata": {
        "id": "EOcJR94chFN-",
        "colab_type": "code",
        "colab": {}
      },
      "source": [
        "x.to_csv('result.csv')"
      ],
      "execution_count": 0,
      "outputs": []
    }
  ]
}